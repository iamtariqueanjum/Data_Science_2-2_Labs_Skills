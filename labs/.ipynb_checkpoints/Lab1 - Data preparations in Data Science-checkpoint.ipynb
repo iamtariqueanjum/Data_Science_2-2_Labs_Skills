{
 "cells": [
  {
   "cell_type": "code",
   "execution_count": 2,
   "metadata": {},
   "outputs": [],
   "source": [
    "import numpy as np\n",
    "import pandas as pd"
   ]
  },
  {
   "cell_type": "markdown",
   "metadata": {},
   "source": [
    "### I.\n",
    "#### 1.\tCreate 2- One dimensional Arrays and print sum of individual element and multiply each with 3"
   ]
  },
  {
   "cell_type": "code",
   "execution_count": null,
   "metadata": {},
   "outputs": [],
   "source": [
    "arr1 = np.array([1,1,0,0,1,1,0])\n",
    "arr2 = np.array([1,1,1,0,1,0,1])\n",
    "\n",
    "print(\"Array 1: \",arr1)\n",
    "print(\"Array 2: \",arr2)"
   ]
  },
  {
   "cell_type": "code",
   "execution_count": null,
   "metadata": {},
   "outputs": [],
   "source": [
    "print(\"Sum of elements in array 1: \",np.sum(arr1))\n",
    "print(\"Sum of elements in array 2: \",np.sum(arr2))"
   ]
  },
  {
   "cell_type": "code",
   "execution_count": null,
   "metadata": {},
   "outputs": [],
   "source": [
    "print(\"Array one after multiplying each element with 3: \\n\",arr1*3)\n",
    "print(\"Array two after multiplying each element with 3: \\n\",arr2*3)"
   ]
  },
  {
   "cell_type": "markdown",
   "metadata": {},
   "source": [
    "#### 2.\tManipulate Logical and, OR Not operations on Array"
   ]
  },
  {
   "cell_type": "code",
   "execution_count": null,
   "metadata": {},
   "outputs": [],
   "source": [
    "print(\"Logical AND operation on arrays:\\n\",np.logical_and(arr1,arr2))\n",
    "print(\"Logical OR operation on arrays:\\n\",np.logical_or(arr1,arr2))\n",
    "print(\"Logical NOT operation on first array:\\n\",np.logical_not(arr1))\n",
    "print(\"Logical NOT operation on second array:\\n\",np.logical_not(arr2))"
   ]
  },
  {
   "cell_type": "markdown",
   "metadata": {},
   "source": [
    "#### 3. \tPerform data Slicing Operations"
   ]
  },
  {
   "cell_type": "code",
   "execution_count": null,
   "metadata": {},
   "outputs": [],
   "source": [
    "print(arr1[1:4])\n",
    "print(arr1[ : :-1])\n",
    "print(arr1[-4:-2])\n",
    "print(arr2[0:3])\n",
    "print(arr2[2:-1])\n",
    "print(arr2[:-1])"
   ]
  },
  {
   "cell_type": "markdown",
   "metadata": {},
   "source": [
    "#### 4. Perform Boolean operations between arrays"
   ]
  },
  {
   "cell_type": "code",
   "execution_count": null,
   "metadata": {},
   "outputs": [],
   "source": [
    "print(\"Bitwise AND operation on arrays:\\n\",np.bitwise_and(arr1,arr2))\n",
    "print(\"Bitwise OR operation on arrays:\\n\",np.bitwise_or(arr1,arr2))\n",
    "print(\"Bitwise XOR operation on arrays:\\n\",np.bitwise_xor(arr1,arr2))\n",
    "print(\"Bitwise LEFT SHIFT operation on first array after left shifting 1 bits:\\n\",np.left_shift(arr1,1))\n",
    "print(\"Bitwise RIGHT SHIFT operation on first array after right shifting 1 bits:\\n\",np.right_shift(arr1,1))\n",
    "print(\"Bitwise LEFT SHIFT operation on second array after left shifting 1 bits:\\n\",np.left_shift(arr2,1))\n",
    "print(\"Bitwise RIGHT SHIFT operation on second array after right shifting 1 bits:\\n\",np.right_shift(arr2,1))"
   ]
  },
  {
   "cell_type": "markdown",
   "metadata": {},
   "source": [
    "### II.  Create 2- Two dimensional Arrays and print sum of individual element and multiply each with 3"
   ]
  },
  {
   "cell_type": "code",
   "execution_count": null,
   "metadata": {},
   "outputs": [],
   "source": [
    "arr1 = np.array([(1,1,1),(1,0,0),(0,1,0)])\n",
    "arr2 = np.array([(1,0,1),(1,1,0),(0,0,0)])\n",
    "\n",
    "print(\"Array 1:\\n\",arr1)\n",
    "print(\"Array 2:\\n\",arr2)"
   ]
  },
  {
   "cell_type": "code",
   "execution_count": null,
   "metadata": {},
   "outputs": [],
   "source": [
    "print(\"Sum of elements in array 1: \",np.sum(arr1))\n",
    "print(\"Sum of elements in array 2: \",np.sum(arr2))"
   ]
  },
  {
   "cell_type": "code",
   "execution_count": null,
   "metadata": {},
   "outputs": [],
   "source": [
    "print(\"Array after multiplying each element with 3:\\n\",arr1*3)\n",
    "print(\"Array after multiplying each element with 3:\\n\",arr2*3)"
   ]
  },
  {
   "cell_type": "markdown",
   "metadata": {},
   "source": [
    "#### 5.\tManipulate Logical and, OR Not operations on Array"
   ]
  },
  {
   "cell_type": "code",
   "execution_count": null,
   "metadata": {},
   "outputs": [],
   "source": [
    "print(\"Logical AND operation on arrays:\\n\",np.logical_and(arr1,arr2))\n",
    "print(\"Logical OR operation on arrays:\\n\",np.logical_or(arr1,arr2))\n",
    "print(\"Logical NOT operation on first array:\\n\",np.logical_not(arr1))\n",
    "print(\"Logical NOT operation on second array:\\n\",np.logical_not(arr2))"
   ]
  },
  {
   "cell_type": "markdown",
   "metadata": {},
   "source": [
    "#### 6.\tPerform data Slicing Operations"
   ]
  },
  {
   "cell_type": "code",
   "execution_count": null,
   "metadata": {},
   "outputs": [],
   "source": [
    "a = np.array([(1,2,3),(4,5,6),(7,8,9)])\n",
    "print(a)\n",
    "print(a[1:,1])\n",
    "print(a[0:2])\n",
    "print(a[-2:-1])\n",
    "print(a[:,0:2]) "
   ]
  },
  {
   "cell_type": "markdown",
   "metadata": {},
   "source": [
    "#### 7.\tPerform Boolean operations between arrays"
   ]
  },
  {
   "cell_type": "code",
   "execution_count": null,
   "metadata": {},
   "outputs": [],
   "source": [
    "print(\"Bitwise AND operation on arrays:\\n\",np.bitwise_and(arr1,arr2))\n",
    "print(\"Bitwise OR operation on arrays:\\n\",np.bitwise_or(arr1,arr2))\n",
    "print(\"Bitwise XOR operation on arrays:\\n\",np.bitwise_xor(arr1,arr2))\n",
    "print(\"Bitwise LEFT SHIFT operation on first array after left shifting 2 bits:\\n\",np.left_shift(arr1,2))\n",
    "print(\"Bitwise RIGHT SHIFT operation on first array after right shifting 1 bits:\\n\",np.right_shift(arr1,1))\n",
    "print(\"Bitwise LEFT SHIFT operation on second array after left shifting 3 bits:\\n\",np.left_shift(arr2,3))\n",
    "print(\"Bitwise RIGHT SHIFT operation on second array after right shifting 1 bits:\\n\",np.right_shift(arr2,1))"
   ]
  },
  {
   "cell_type": "markdown",
   "metadata": {},
   "source": [
    "### III. \n",
    "- #### arange()"
   ]
  },
  {
   "cell_type": "code",
   "execution_count": null,
   "metadata": {
    "scrolled": true
   },
   "outputs": [],
   "source": [
    "arr = np.arange(2,25,3)\n",
    "print(\"Array formed using arange(start,end,step): \",arr)"
   ]
  },
  {
   "cell_type": "markdown",
   "metadata": {},
   "source": [
    "- #### reshape()"
   ]
  },
  {
   "cell_type": "code",
   "execution_count": null,
   "metadata": {},
   "outputs": [],
   "source": [
    "print(\"Array reshaped with 2 rows and 4 columns: \\n\",arr.reshape(2, 4))\n",
    "print(\"Array reshaped with 4 rows and 2 columns: \\n\",arr.reshape(4, 2))\n",
    "print(\"Original array reshaped to 3D : \\n\", arr.reshape(2, 2, 2)) "
   ]
  },
  {
   "cell_type": "markdown",
   "metadata": {},
   "source": [
    "- #### resize()"
   ]
  },
  {
   "cell_type": "code",
   "execution_count": null,
   "metadata": {},
   "outputs": [],
   "source": [
    "arr.resize(2,4)\n",
    "print(\"Array reshaped to 2 rows and 4 colums permanently: \\n\",arr)"
   ]
  },
  {
   "cell_type": "markdown",
   "metadata": {},
   "source": [
    "- #### hsplit()"
   ]
  },
  {
   "cell_type": "code",
   "execution_count": null,
   "metadata": {},
   "outputs": [],
   "source": [
    "arr = np.arange(16).reshape(4, 4) \n",
    "print(arr)\n",
    "arr = np.hsplit(arr, 2) \n",
    "print(arr) "
   ]
  },
  {
   "cell_type": "code",
   "execution_count": null,
   "metadata": {},
   "outputs": [],
   "source": [
    "arr = np.arange(27).reshape(3, 3, 3) \n",
    "print(arr)  \n",
    "arr = np.hsplit(arr, 1) \n",
    "print(arr) "
   ]
  },
  {
   "cell_type": "markdown",
   "metadata": {},
   "source": [
    "- #### Extract ones, Two’s in arrays"
   ]
  },
  {
   "cell_type": "code",
   "execution_count": null,
   "metadata": {},
   "outputs": [],
   "source": [
    "arr = np.array([1, 2, 2, 1, 2, 1, 2, 1, 1, 1, 1, 2, 1, 2, 2])\n",
    "unique, counts = np.unique(arr, return_counts=True)\n",
    "print(dict(zip(unique, counts)))"
   ]
  },
  {
   "cell_type": "markdown",
   "metadata": {},
   "source": [
    "- #### Scalar()"
   ]
  },
  {
   "cell_type": "code",
   "execution_count": null,
   "metadata": {},
   "outputs": [],
   "source": [
    "# numpy.asscalar() function \n",
    "# creating a array of size 1 \n",
    "\n",
    "arr = np.array([8]) \n",
    "print (\"Input array : \", arr) \n",
    "\n",
    "scalar = np.asscalar(arr) \n",
    "print (\"output scalar from input array : \", scalar) "
   ]
  },
  {
   "cell_type": "markdown",
   "metadata": {},
   "source": [
    "### IV. Create Data Frame with a MultiIndex"
   ]
  },
  {
   "cell_type": "code",
   "execution_count": 5,
   "metadata": {},
   "outputs": [
    {
     "data": {
      "text/html": [
       "<div>\n",
       "<style scoped>\n",
       "    .dataframe tbody tr th:only-of-type {\n",
       "        vertical-align: middle;\n",
       "    }\n",
       "\n",
       "    .dataframe tbody tr th {\n",
       "        vertical-align: top;\n",
       "    }\n",
       "\n",
       "    .dataframe thead th {\n",
       "        text-align: right;\n",
       "    }\n",
       "</style>\n",
       "<table border=\"1\" class=\"dataframe\">\n",
       "  <thead>\n",
       "    <tr style=\"text-align: right;\">\n",
       "      <th></th>\n",
       "      <th>a</th>\n",
       "      <th>b</th>\n",
       "      <th>c</th>\n",
       "    </tr>\n",
       "  </thead>\n",
       "  <tbody>\n",
       "    <tr>\n",
       "      <th>1</th>\n",
       "      <td>1</td>\n",
       "      <td>4</td>\n",
       "      <td>7</td>\n",
       "    </tr>\n",
       "    <tr>\n",
       "      <th>2</th>\n",
       "      <td>2</td>\n",
       "      <td>5</td>\n",
       "      <td>8</td>\n",
       "    </tr>\n",
       "    <tr>\n",
       "      <th>3</th>\n",
       "      <td>3</td>\n",
       "      <td>6</td>\n",
       "      <td>9</td>\n",
       "    </tr>\n",
       "  </tbody>\n",
       "</table>\n",
       "</div>"
      ],
      "text/plain": [
       "   a  b  c\n",
       "1  1  4  7\n",
       "2  2  5  8\n",
       "3  3  6  9"
      ]
     },
     "execution_count": 5,
     "metadata": {},
     "output_type": "execute_result"
    }
   ],
   "source": [
    "df=pd.DataFrame({\"a\":[1,2,3],\n",
    "                 \"b\":[4,5,6],\n",
    "                 \"c\":[7,8,9]},\n",
    "                index=[1,2,3])\n",
    "df"
   ]
  },
  {
   "cell_type": "code",
   "execution_count": 6,
   "metadata": {},
   "outputs": [
    {
     "data": {
      "text/html": [
       "<div>\n",
       "<style scoped>\n",
       "    .dataframe tbody tr th:only-of-type {\n",
       "        vertical-align: middle;\n",
       "    }\n",
       "\n",
       "    .dataframe tbody tr th {\n",
       "        vertical-align: top;\n",
       "    }\n",
       "\n",
       "    .dataframe thead th {\n",
       "        text-align: right;\n",
       "    }\n",
       "</style>\n",
       "<table border=\"1\" class=\"dataframe\">\n",
       "  <thead>\n",
       "    <tr style=\"text-align: right;\">\n",
       "      <th></th>\n",
       "      <th>1</th>\n",
       "      <th>2</th>\n",
       "      <th>3</th>\n",
       "    </tr>\n",
       "  </thead>\n",
       "  <tbody>\n",
       "    <tr>\n",
       "      <th>a</th>\n",
       "      <td>1</td>\n",
       "      <td>4</td>\n",
       "      <td>7</td>\n",
       "    </tr>\n",
       "    <tr>\n",
       "      <th>b</th>\n",
       "      <td>2</td>\n",
       "      <td>5</td>\n",
       "      <td>8</td>\n",
       "    </tr>\n",
       "    <tr>\n",
       "      <th>c</th>\n",
       "      <td>3</td>\n",
       "      <td>6</td>\n",
       "      <td>9</td>\n",
       "    </tr>\n",
       "  </tbody>\n",
       "</table>\n",
       "</div>"
      ],
      "text/plain": [
       "   1  2  3\n",
       "a  1  4  7\n",
       "b  2  5  8\n",
       "c  3  6  9"
      ]
     },
     "execution_count": 6,
     "metadata": {},
     "output_type": "execute_result"
    }
   ],
   "source": [
    "df=pd.DataFrame({1:[1,2,3],\n",
    "                 2:[4,5,6],\n",
    "                 3:[7,8,9]},\n",
    "                index=[\"a\",\"b\",\"c\"])\n",
    "df"
   ]
  },
  {
   "cell_type": "code",
   "execution_count": 3,
   "metadata": {},
   "outputs": [
    {
     "data": {
      "text/html": [
       "<div>\n",
       "<style scoped>\n",
       "    .dataframe tbody tr th:only-of-type {\n",
       "        vertical-align: middle;\n",
       "    }\n",
       "\n",
       "    .dataframe tbody tr th {\n",
       "        vertical-align: top;\n",
       "    }\n",
       "\n",
       "    .dataframe thead th {\n",
       "        text-align: right;\n",
       "    }\n",
       "</style>\n",
       "<table border=\"1\" class=\"dataframe\">\n",
       "  <thead>\n",
       "    <tr style=\"text-align: right;\">\n",
       "      <th></th>\n",
       "      <th></th>\n",
       "      <th>a</th>\n",
       "      <th>b</th>\n",
       "      <th>c</th>\n",
       "    </tr>\n",
       "    <tr>\n",
       "      <th>n</th>\n",
       "      <th>v</th>\n",
       "      <th></th>\n",
       "      <th></th>\n",
       "      <th></th>\n",
       "    </tr>\n",
       "  </thead>\n",
       "  <tbody>\n",
       "    <tr>\n",
       "      <th rowspan=\"2\" valign=\"top\">d</th>\n",
       "      <th>1</th>\n",
       "      <td>1</td>\n",
       "      <td>4</td>\n",
       "      <td>7</td>\n",
       "    </tr>\n",
       "    <tr>\n",
       "      <th>1</th>\n",
       "      <td>2</td>\n",
       "      <td>5</td>\n",
       "      <td>8</td>\n",
       "    </tr>\n",
       "    <tr>\n",
       "      <th>e</th>\n",
       "      <th>2</th>\n",
       "      <td>3</td>\n",
       "      <td>6</td>\n",
       "      <td>9</td>\n",
       "    </tr>\n",
       "  </tbody>\n",
       "</table>\n",
       "</div>"
      ],
      "text/plain": [
       "     a  b  c\n",
       "n v         \n",
       "d 1  1  4  7\n",
       "  1  2  5  8\n",
       "e 2  3  6  9"
      ]
     },
     "execution_count": 3,
     "metadata": {},
     "output_type": "execute_result"
    }
   ],
   "source": [
    "df=pd.DataFrame({\"a\":[1,2,3],\n",
    "                 \"b\":[4,5,6],\n",
    "                 \"c\":[7,8,9]},\n",
    "                index=pd.MultiIndex.from_tuples([('d',1),('d',1),('e',2)],names=['n','v']))\n",
    "df"
   ]
  },
  {
   "cell_type": "markdown",
   "metadata": {},
   "source": [
    "### V. import .CSV file do the following\n",
    "(https://www.kaggle.com/aljarah/xAPI-Edu-Data- Students' Academic Performance Dataset)"
   ]
  },
  {
   "cell_type": "code",
   "execution_count": null,
   "metadata": {
    "scrolled": false
   },
   "outputs": [],
   "source": [
    "edu_data = pd.read_csv(\"D:/KL University/SEM 2-2/Data Science/Labs/Lab 1/xAPI-Edu-Data.csv\")\n",
    "edu_data"
   ]
  },
  {
   "cell_type": "markdown",
   "metadata": {},
   "source": [
    "#### 1. describe()"
   ]
  },
  {
   "cell_type": "code",
   "execution_count": null,
   "metadata": {},
   "outputs": [],
   "source": [
    "edu_data.describe()"
   ]
  },
  {
   "cell_type": "markdown",
   "metadata": {},
   "source": [
    "#### 2. Mean()"
   ]
  },
  {
   "cell_type": "code",
   "execution_count": null,
   "metadata": {},
   "outputs": [],
   "source": [
    "edu_data.mean()"
   ]
  },
  {
   "cell_type": "markdown",
   "metadata": {},
   "source": [
    "#### 3. Median()"
   ]
  },
  {
   "cell_type": "code",
   "execution_count": null,
   "metadata": {},
   "outputs": [],
   "source": [
    "edu_data.median()"
   ]
  },
  {
   "cell_type": "markdown",
   "metadata": {},
   "source": [
    "#### 4. Slicing operations"
   ]
  },
  {
   "cell_type": "code",
   "execution_count": null,
   "metadata": {},
   "outputs": [],
   "source": [
    "edu_data[1:5]"
   ]
  },
  {
   "cell_type": "code",
   "execution_count": null,
   "metadata": {},
   "outputs": [],
   "source": [
    "edu_data[['gender','Topic']]"
   ]
  },
  {
   "cell_type": "code",
   "execution_count": null,
   "metadata": {
    "scrolled": false
   },
   "outputs": [],
   "source": [
    "edu_data.loc[4,:] # returned a series\n",
    "edu_data.loc[[4],:] # return a dataframe"
   ]
  },
  {
   "cell_type": "code",
   "execution_count": null,
   "metadata": {},
   "outputs": [],
   "source": [
    "edu_data.loc[0:4,:] # inclusive of b in a:b"
   ]
  },
  {
   "cell_type": "code",
   "execution_count": null,
   "metadata": {},
   "outputs": [],
   "source": [
    "edu_data.loc[:,['gender','Topic']]"
   ]
  },
  {
   "cell_type": "code",
   "execution_count": null,
   "metadata": {},
   "outputs": [],
   "source": [
    "edu_data.loc[:,'gender':'Relation']"
   ]
  },
  {
   "cell_type": "code",
   "execution_count": null,
   "metadata": {},
   "outputs": [],
   "source": [
    "cols = ['raisedhands',\n",
    "        'VisITedResources',\n",
    "        'AnnouncementsView',\n",
    "        'Discussion',\n",
    "        'ParentAnsweringSurvey',\n",
    "        'ParentschoolSatisfaction',\n",
    "        'StudentAbsenceDays',\n",
    "        'Class']\n",
    "edu_data.head().drop(cols,axis=1)"
   ]
  },
  {
   "cell_type": "code",
   "execution_count": null,
   "metadata": {},
   "outputs": [],
   "source": [
    "#edu_data[edu_data.GradeID=='G-04'].ParentAnsweringSurvey # Chained Indexing\n",
    "edu_data.loc[edu_data.GradeID=='G-04','ParentAnsweringSurvey']"
   ]
  },
  {
   "cell_type": "code",
   "execution_count": null,
   "metadata": {
    "scrolled": true
   },
   "outputs": [],
   "source": [
    "edu_data.iloc[0:10,0:5] # exclusive of b in a:b"
   ]
  }
 ],
 "metadata": {
  "kernelspec": {
   "display_name": "Python 3",
   "language": "python",
   "name": "python3"
  },
  "language_info": {
   "codemirror_mode": {
    "name": "ipython",
    "version": 3
   },
   "file_extension": ".py",
   "mimetype": "text/x-python",
   "name": "python",
   "nbconvert_exporter": "python",
   "pygments_lexer": "ipython3",
   "version": "3.8.5"
  }
 },
 "nbformat": 4,
 "nbformat_minor": 4
}
