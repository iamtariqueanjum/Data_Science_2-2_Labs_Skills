{
 "cells": [
  {
   "cell_type": "code",
   "execution_count": 10,
   "metadata": {},
   "outputs": [],
   "source": [
    "import pandas as pd"
   ]
  },
  {
   "cell_type": "markdown",
   "metadata": {},
   "source": [
    "#### 1. Use series method to convert the following list [‘a’,’b’,’c’,’d’] "
   ]
  },
  {
   "cell_type": "code",
   "execution_count": 11,
   "metadata": {},
   "outputs": [
    {
     "name": "stdout",
     "output_type": "stream",
     "text": [
      "1    a\n",
      "2    b\n",
      "3    c\n",
      "4    d\n",
      "dtype: object\n"
     ]
    }
   ],
   "source": [
    "s = pd.Series(['a','b','c','d'],index=[1,2,3,4])\n",
    "print(s)"
   ]
  },
  {
   "cell_type": "markdown",
   "metadata": {},
   "source": [
    "#### 2. Given the lists which contain names of students and their scored marks you have to create data frames which club them all using pandas. \n",
    "- student list is [' Name 1' ,' Name 2', ' Name 3' ,' Name 4', ' Name 5' ' Name 6'] \n",
    "- Their marks are [[67,89,68,95], [87,94,97,76], [77,85,99,74], [90,89,92,78], [83,97,80,98],[90,90,80,87]] \n",
    "- subjects list  ['DS','AI','MPII', 'CNS'] "
   ]
  },
  {
   "cell_type": "code",
   "execution_count": 12,
   "metadata": {},
   "outputs": [
    {
     "data": {
      "text/html": [
       "<div>\n",
       "<style scoped>\n",
       "    .dataframe tbody tr th:only-of-type {\n",
       "        vertical-align: middle;\n",
       "    }\n",
       "\n",
       "    .dataframe tbody tr th {\n",
       "        vertical-align: top;\n",
       "    }\n",
       "\n",
       "    .dataframe thead th {\n",
       "        text-align: right;\n",
       "    }\n",
       "</style>\n",
       "<table border=\"1\" class=\"dataframe\">\n",
       "  <thead>\n",
       "    <tr style=\"text-align: right;\">\n",
       "      <th></th>\n",
       "      <th>DS</th>\n",
       "      <th>AI</th>\n",
       "      <th>MPII</th>\n",
       "      <th>CNS</th>\n",
       "    </tr>\n",
       "  </thead>\n",
       "  <tbody>\n",
       "    <tr>\n",
       "      <th>Name 1</th>\n",
       "      <td>67</td>\n",
       "      <td>89</td>\n",
       "      <td>68</td>\n",
       "      <td>95</td>\n",
       "    </tr>\n",
       "    <tr>\n",
       "      <th>Name 2</th>\n",
       "      <td>87</td>\n",
       "      <td>94</td>\n",
       "      <td>97</td>\n",
       "      <td>76</td>\n",
       "    </tr>\n",
       "    <tr>\n",
       "      <th>Name 3</th>\n",
       "      <td>77</td>\n",
       "      <td>85</td>\n",
       "      <td>99</td>\n",
       "      <td>74</td>\n",
       "    </tr>\n",
       "    <tr>\n",
       "      <th>Name 4</th>\n",
       "      <td>90</td>\n",
       "      <td>89</td>\n",
       "      <td>92</td>\n",
       "      <td>78</td>\n",
       "    </tr>\n",
       "    <tr>\n",
       "      <th>Name 5</th>\n",
       "      <td>83</td>\n",
       "      <td>97</td>\n",
       "      <td>80</td>\n",
       "      <td>98</td>\n",
       "    </tr>\n",
       "    <tr>\n",
       "      <th>Name 6</th>\n",
       "      <td>90</td>\n",
       "      <td>90</td>\n",
       "      <td>80</td>\n",
       "      <td>87</td>\n",
       "    </tr>\n",
       "  </tbody>\n",
       "</table>\n",
       "</div>"
      ],
      "text/plain": [
       "        DS  AI  MPII  CNS\n",
       "Name 1  67  89    68   95\n",
       "Name 2  87  94    97   76\n",
       "Name 3  77  85    99   74\n",
       "Name 4  90  89    92   78\n",
       "Name 5  83  97    80   98\n",
       "Name 6  90  90    80   87"
      ]
     },
     "execution_count": 12,
     "metadata": {},
     "output_type": "execute_result"
    }
   ],
   "source": [
    "students = ['Name 1','Name 2','Name 3','Name 4','Name 5','Name 6']\n",
    "marks = [[67,89,68,95], [87,94,97,76], [77,85,99,74], [90,89,92,78], [83,97,80,98],[90,90,80,87]]\n",
    "subjects = ['DS','AI','MPII', 'CNS']\n",
    "\n",
    "df = pd.DataFrame(data=marks,index=students,columns=subjects)\n",
    "df"
   ]
  },
  {
   "cell_type": "markdown",
   "metadata": {},
   "source": [
    "#### 3. Add the TS , total columns to the data frame from which TS is the sum of  DS,AI,MPII and total is the sum of all subjects? "
   ]
  },
  {
   "cell_type": "code",
   "execution_count": 13,
   "metadata": {},
   "outputs": [
    {
     "data": {
      "text/html": [
       "<div>\n",
       "<style scoped>\n",
       "    .dataframe tbody tr th:only-of-type {\n",
       "        vertical-align: middle;\n",
       "    }\n",
       "\n",
       "    .dataframe tbody tr th {\n",
       "        vertical-align: top;\n",
       "    }\n",
       "\n",
       "    .dataframe thead th {\n",
       "        text-align: right;\n",
       "    }\n",
       "</style>\n",
       "<table border=\"1\" class=\"dataframe\">\n",
       "  <thead>\n",
       "    <tr style=\"text-align: right;\">\n",
       "      <th></th>\n",
       "      <th>DS</th>\n",
       "      <th>AI</th>\n",
       "      <th>MPII</th>\n",
       "      <th>CNS</th>\n",
       "      <th>TS(DS+AI+MPII)</th>\n",
       "      <th>Total</th>\n",
       "    </tr>\n",
       "  </thead>\n",
       "  <tbody>\n",
       "    <tr>\n",
       "      <th>Name 1</th>\n",
       "      <td>67</td>\n",
       "      <td>89</td>\n",
       "      <td>68</td>\n",
       "      <td>95</td>\n",
       "      <td>224</td>\n",
       "      <td>319</td>\n",
       "    </tr>\n",
       "    <tr>\n",
       "      <th>Name 2</th>\n",
       "      <td>87</td>\n",
       "      <td>94</td>\n",
       "      <td>97</td>\n",
       "      <td>76</td>\n",
       "      <td>278</td>\n",
       "      <td>354</td>\n",
       "    </tr>\n",
       "    <tr>\n",
       "      <th>Name 3</th>\n",
       "      <td>77</td>\n",
       "      <td>85</td>\n",
       "      <td>99</td>\n",
       "      <td>74</td>\n",
       "      <td>261</td>\n",
       "      <td>335</td>\n",
       "    </tr>\n",
       "    <tr>\n",
       "      <th>Name 4</th>\n",
       "      <td>90</td>\n",
       "      <td>89</td>\n",
       "      <td>92</td>\n",
       "      <td>78</td>\n",
       "      <td>271</td>\n",
       "      <td>349</td>\n",
       "    </tr>\n",
       "    <tr>\n",
       "      <th>Name 5</th>\n",
       "      <td>83</td>\n",
       "      <td>97</td>\n",
       "      <td>80</td>\n",
       "      <td>98</td>\n",
       "      <td>260</td>\n",
       "      <td>358</td>\n",
       "    </tr>\n",
       "    <tr>\n",
       "      <th>Name 6</th>\n",
       "      <td>90</td>\n",
       "      <td>90</td>\n",
       "      <td>80</td>\n",
       "      <td>87</td>\n",
       "      <td>260</td>\n",
       "      <td>347</td>\n",
       "    </tr>\n",
       "  </tbody>\n",
       "</table>\n",
       "</div>"
      ],
      "text/plain": [
       "        DS  AI  MPII  CNS  TS(DS+AI+MPII)  Total\n",
       "Name 1  67  89    68   95             224    319\n",
       "Name 2  87  94    97   76             278    354\n",
       "Name 3  77  85    99   74             261    335\n",
       "Name 4  90  89    92   78             271    349\n",
       "Name 5  83  97    80   98             260    358\n",
       "Name 6  90  90    80   87             260    347"
      ]
     },
     "execution_count": 13,
     "metadata": {},
     "output_type": "execute_result"
    }
   ],
   "source": [
    "df['TS(DS+AI+MPII)'] = df['DS']+df['AI']+df['MPII']\n",
    "df['Total'] = df['DS']+df['AI']+df['MPII']+df['CNS']\n",
    "df"
   ]
  },
  {
   "cell_type": "markdown",
   "metadata": {},
   "source": [
    "#### 4. Display only the marks scored by Name 2 and Name3? "
   ]
  },
  {
   "cell_type": "code",
   "execution_count": 14,
   "metadata": {
    "scrolled": true
   },
   "outputs": [
    {
     "data": {
      "text/html": [
       "<div>\n",
       "<style scoped>\n",
       "    .dataframe tbody tr th:only-of-type {\n",
       "        vertical-align: middle;\n",
       "    }\n",
       "\n",
       "    .dataframe tbody tr th {\n",
       "        vertical-align: top;\n",
       "    }\n",
       "\n",
       "    .dataframe thead th {\n",
       "        text-align: right;\n",
       "    }\n",
       "</style>\n",
       "<table border=\"1\" class=\"dataframe\">\n",
       "  <thead>\n",
       "    <tr style=\"text-align: right;\">\n",
       "      <th></th>\n",
       "      <th>DS</th>\n",
       "      <th>AI</th>\n",
       "      <th>MPII</th>\n",
       "      <th>CNS</th>\n",
       "      <th>TS(DS+AI+MPII)</th>\n",
       "      <th>Total</th>\n",
       "    </tr>\n",
       "  </thead>\n",
       "  <tbody>\n",
       "    <tr>\n",
       "      <th>Name 2</th>\n",
       "      <td>87</td>\n",
       "      <td>94</td>\n",
       "      <td>97</td>\n",
       "      <td>76</td>\n",
       "      <td>278</td>\n",
       "      <td>354</td>\n",
       "    </tr>\n",
       "    <tr>\n",
       "      <th>Name 3</th>\n",
       "      <td>77</td>\n",
       "      <td>85</td>\n",
       "      <td>99</td>\n",
       "      <td>74</td>\n",
       "      <td>261</td>\n",
       "      <td>335</td>\n",
       "    </tr>\n",
       "  </tbody>\n",
       "</table>\n",
       "</div>"
      ],
      "text/plain": [
       "        DS  AI  MPII  CNS  TS(DS+AI+MPII)  Total\n",
       "Name 2  87  94    97   76             278    354\n",
       "Name 3  77  85    99   74             261    335"
      ]
     },
     "execution_count": 14,
     "metadata": {},
     "output_type": "execute_result"
    }
   ],
   "source": [
    "df.loc[['Name 2','Name 3'],:]"
   ]
  },
  {
   "cell_type": "markdown",
   "metadata": {},
   "source": [
    "#### 5. Display all the students marks who scored 90 + marks in DS?"
   ]
  },
  {
   "cell_type": "code",
   "execution_count": 15,
   "metadata": {},
   "outputs": [
    {
     "data": {
      "text/html": [
       "<div>\n",
       "<style scoped>\n",
       "    .dataframe tbody tr th:only-of-type {\n",
       "        vertical-align: middle;\n",
       "    }\n",
       "\n",
       "    .dataframe tbody tr th {\n",
       "        vertical-align: top;\n",
       "    }\n",
       "\n",
       "    .dataframe thead th {\n",
       "        text-align: right;\n",
       "    }\n",
       "</style>\n",
       "<table border=\"1\" class=\"dataframe\">\n",
       "  <thead>\n",
       "    <tr style=\"text-align: right;\">\n",
       "      <th></th>\n",
       "      <th>DS</th>\n",
       "      <th>AI</th>\n",
       "      <th>MPII</th>\n",
       "      <th>CNS</th>\n",
       "      <th>TS(DS+AI+MPII)</th>\n",
       "      <th>Total</th>\n",
       "    </tr>\n",
       "  </thead>\n",
       "  <tbody>\n",
       "    <tr>\n",
       "      <th>Name 4</th>\n",
       "      <td>90</td>\n",
       "      <td>89</td>\n",
       "      <td>92</td>\n",
       "      <td>78</td>\n",
       "      <td>271</td>\n",
       "      <td>349</td>\n",
       "    </tr>\n",
       "    <tr>\n",
       "      <th>Name 6</th>\n",
       "      <td>90</td>\n",
       "      <td>90</td>\n",
       "      <td>80</td>\n",
       "      <td>87</td>\n",
       "      <td>260</td>\n",
       "      <td>347</td>\n",
       "    </tr>\n",
       "  </tbody>\n",
       "</table>\n",
       "</div>"
      ],
      "text/plain": [
       "        DS  AI  MPII  CNS  TS(DS+AI+MPII)  Total\n",
       "Name 4  90  89    92   78             271    349\n",
       "Name 6  90  90    80   87             260    347"
      ]
     },
     "execution_count": 15,
     "metadata": {},
     "output_type": "execute_result"
    }
   ],
   "source": [
    "df[df['DS']>=90]"
   ]
  },
  {
   "cell_type": "markdown",
   "metadata": {},
   "source": [
    "#### 6. DS teacher wants to know the total marks achieved by students in DS , Help her by using the sum method in data frame"
   ]
  },
  {
   "cell_type": "code",
   "execution_count": 16,
   "metadata": {},
   "outputs": [
    {
     "name": "stdout",
     "output_type": "stream",
     "text": [
      "Sum of DS Marks : 494\n"
     ]
    }
   ],
   "source": [
    "print('Sum of DS Marks :',df['DS'].sum())"
   ]
  },
  {
   "cell_type": "markdown",
   "metadata": {},
   "source": [
    "#### B) Include  .csv file in python"
   ]
  },
  {
   "cell_type": "code",
   "execution_count": 17,
   "metadata": {
    "scrolled": true
   },
   "outputs": [
    {
     "data": {
      "text/html": [
       "<div>\n",
       "<style scoped>\n",
       "    .dataframe tbody tr th:only-of-type {\n",
       "        vertical-align: middle;\n",
       "    }\n",
       "\n",
       "    .dataframe tbody tr th {\n",
       "        vertical-align: top;\n",
       "    }\n",
       "\n",
       "    .dataframe thead th {\n",
       "        text-align: right;\n",
       "    }\n",
       "</style>\n",
       "<table border=\"1\" class=\"dataframe\">\n",
       "  <thead>\n",
       "    <tr style=\"text-align: right;\">\n",
       "      <th></th>\n",
       "      <th>flow rate(lit/min;/ /</th>\n",
       "      <th>speed</th>\n",
       "      <th>capacity</th>\n",
       "      <th>voltage</th>\n",
       "      <th>current</th>\n",
       "      <th>temprature</th>\n",
       "      <th>capacity in watt</th>\n",
       "      <th>performance</th>\n",
       "    </tr>\n",
       "  </thead>\n",
       "  <tbody>\n",
       "    <tr>\n",
       "      <th>0</th>\n",
       "      <td>40</td>\n",
       "      <td>1400</td>\n",
       "      <td>0.5</td>\n",
       "      <td>120</td>\n",
       "      <td>3.104167</td>\n",
       "      <td>10</td>\n",
       "      <td>372.5</td>\n",
       "      <td>0</td>\n",
       "    </tr>\n",
       "    <tr>\n",
       "      <th>1</th>\n",
       "      <td>80</td>\n",
       "      <td>2800</td>\n",
       "      <td>1.0</td>\n",
       "      <td>240</td>\n",
       "      <td>3.104167</td>\n",
       "      <td>20</td>\n",
       "      <td>745.0</td>\n",
       "      <td>0</td>\n",
       "    </tr>\n",
       "    <tr>\n",
       "      <th>2</th>\n",
       "      <td>40</td>\n",
       "      <td>1400</td>\n",
       "      <td>0.5</td>\n",
       "      <td>120</td>\n",
       "      <td>3.104167</td>\n",
       "      <td>10</td>\n",
       "      <td>372.5</td>\n",
       "      <td>0</td>\n",
       "    </tr>\n",
       "    <tr>\n",
       "      <th>3</th>\n",
       "      <td>160</td>\n",
       "      <td>5600</td>\n",
       "      <td>2.0</td>\n",
       "      <td>480</td>\n",
       "      <td>3.104167</td>\n",
       "      <td>40</td>\n",
       "      <td>1490.0</td>\n",
       "      <td>1</td>\n",
       "    </tr>\n",
       "    <tr>\n",
       "      <th>4</th>\n",
       "      <td>40</td>\n",
       "      <td>1400</td>\n",
       "      <td>0.5</td>\n",
       "      <td>120</td>\n",
       "      <td>3.104167</td>\n",
       "      <td>10</td>\n",
       "      <td>372.5</td>\n",
       "      <td>0</td>\n",
       "    </tr>\n",
       "  </tbody>\n",
       "</table>\n",
       "</div>"
      ],
      "text/plain": [
       "   flow rate(lit/min;/ /  speed  capacity  voltage   current  temprature  \\\n",
       "0                     40   1400       0.5      120  3.104167          10   \n",
       "1                     80   2800       1.0      240  3.104167          20   \n",
       "2                     40   1400       0.5      120  3.104167          10   \n",
       "3                    160   5600       2.0      480  3.104167          40   \n",
       "4                     40   1400       0.5      120  3.104167          10   \n",
       "\n",
       "   capacity in watt  performance  \n",
       "0             372.5            0  \n",
       "1             745.0            0  \n",
       "2             372.5            0  \n",
       "3            1490.0            1  \n",
       "4             372.5            0  "
      ]
     },
     "execution_count": 17,
     "metadata": {},
     "output_type": "execute_result"
    }
   ],
   "source": [
    "data = pd.read_csv(\"motor.csv\")\n",
    "data.head()"
   ]
  },
  {
   "cell_type": "code",
   "execution_count": 18,
   "metadata": {},
   "outputs": [
    {
     "name": "stdout",
     "output_type": "stream",
     "text": [
      "<class 'pandas.core.frame.DataFrame'>\n",
      "RangeIndex: 199 entries, 0 to 198\n",
      "Data columns (total 8 columns):\n",
      " #   Column                 Non-Null Count  Dtype  \n",
      "---  ------                 --------------  -----  \n",
      " 0   flow rate(lit/min;/ /  199 non-null    int64  \n",
      " 1   speed                  199 non-null    int64  \n",
      " 2   capacity               199 non-null    float64\n",
      " 3   voltage                199 non-null    int64  \n",
      " 4   current                199 non-null    float64\n",
      " 5   temprature             199 non-null    int64  \n",
      " 6   capacity in watt       199 non-null    float64\n",
      " 7   performance            199 non-null    int64  \n",
      "dtypes: float64(3), int64(5)\n",
      "memory usage: 12.6 KB\n"
     ]
    }
   ],
   "source": [
    "data.info()"
   ]
  }
 ],
 "metadata": {
  "kernelspec": {
   "display_name": "Python 3",
   "language": "python",
   "name": "python3"
  },
  "language_info": {
   "codemirror_mode": {
    "name": "ipython",
    "version": 3
   },
   "file_extension": ".py",
   "mimetype": "text/x-python",
   "name": "python",
   "nbconvert_exporter": "python",
   "pygments_lexer": "ipython3",
   "version": "3.8.5"
  }
 },
 "nbformat": 4,
 "nbformat_minor": 4
}
