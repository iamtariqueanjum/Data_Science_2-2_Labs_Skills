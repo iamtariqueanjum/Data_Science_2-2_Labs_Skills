{
 "cells": [
  {
   "cell_type": "code",
   "execution_count": 1,
   "metadata": {},
   "outputs": [],
   "source": [
    "import pandas as pd\n",
    "import numpy as np\n",
    "import matplotlib.pyplot as plt\n",
    "import seaborn as sns"
   ]
  },
  {
   "cell_type": "code",
   "execution_count": 2,
   "metadata": {},
   "outputs": [],
   "source": [
    "import warnings\n",
    "warnings.filterwarnings(\"ignore\")"
   ]
  },
  {
   "cell_type": "code",
   "execution_count": 3,
   "metadata": {},
   "outputs": [],
   "source": [
    "pd.options.display.float_format = '{:.5f}'.format\n",
    "pd.options.display.max_columns = None\n",
    "pd.options.display.max_rows = None\n",
    "np.random.seed(100)"
   ]
  },
  {
   "cell_type": "code",
   "execution_count": 4,
   "metadata": {},
   "outputs": [],
   "source": [
    "day =pd.read_csv(\"D:/KL University/2nd Year/2-2/DS/Skilling/Skill4/day.csv\")\n",
    "hour=pd.read_csv(\"D:/KL University/2nd Year/2-2/DS/Skilling/Skill4/hour.csv\")"
   ]
  },
  {
   "cell_type": "code",
   "execution_count": 35,
   "metadata": {
    "collapsed": true,
    "jupyter": {
     "outputs_hidden": true
    }
   },
   "outputs": [
    {
     "data": {
      "text/html": [
       "<div>\n",
       "<style scoped>\n",
       "    .dataframe tbody tr th:only-of-type {\n",
       "        vertical-align: middle;\n",
       "    }\n",
       "\n",
       "    .dataframe tbody tr th {\n",
       "        vertical-align: top;\n",
       "    }\n",
       "\n",
       "    .dataframe thead th {\n",
       "        text-align: right;\n",
       "    }\n",
       "</style>\n",
       "<table border=\"1\" class=\"dataframe\">\n",
       "  <thead>\n",
       "    <tr style=\"text-align: right;\">\n",
       "      <th></th>\n",
       "      <th>dteday</th>\n",
       "      <th>season</th>\n",
       "      <th>yr</th>\n",
       "      <th>mnth</th>\n",
       "      <th>holiday</th>\n",
       "      <th>weekday</th>\n",
       "      <th>workingday</th>\n",
       "      <th>weathersit</th>\n",
       "      <th>temp</th>\n",
       "      <th>atemp</th>\n",
       "      <th>hum</th>\n",
       "      <th>windspeed</th>\n",
       "      <th>casual</th>\n",
       "      <th>registered</th>\n",
       "      <th>cnt</th>\n",
       "    </tr>\n",
       "  </thead>\n",
       "  <tbody>\n",
       "    <tr>\n",
       "      <th>0</th>\n",
       "      <td>2011-01-01</td>\n",
       "      <td>1</td>\n",
       "      <td>0</td>\n",
       "      <td>1</td>\n",
       "      <td>0</td>\n",
       "      <td>6</td>\n",
       "      <td>0</td>\n",
       "      <td>2</td>\n",
       "      <td>14.11085</td>\n",
       "      <td>18.18125</td>\n",
       "      <td>80.58330</td>\n",
       "      <td>10.74988</td>\n",
       "      <td>331</td>\n",
       "      <td>654</td>\n",
       "      <td>985</td>\n",
       "    </tr>\n",
       "    <tr>\n",
       "      <th>1</th>\n",
       "      <td>2011-01-02</td>\n",
       "      <td>1</td>\n",
       "      <td>0</td>\n",
       "      <td>1</td>\n",
       "      <td>0</td>\n",
       "      <td>0</td>\n",
       "      <td>0</td>\n",
       "      <td>2</td>\n",
       "      <td>14.90260</td>\n",
       "      <td>17.68695</td>\n",
       "      <td>69.60870</td>\n",
       "      <td>16.65211</td>\n",
       "      <td>131</td>\n",
       "      <td>670</td>\n",
       "      <td>801</td>\n",
       "    </tr>\n",
       "    <tr>\n",
       "      <th>2</th>\n",
       "      <td>2011-01-03</td>\n",
       "      <td>1</td>\n",
       "      <td>0</td>\n",
       "      <td>1</td>\n",
       "      <td>0</td>\n",
       "      <td>1</td>\n",
       "      <td>1</td>\n",
       "      <td>1</td>\n",
       "      <td>8.05092</td>\n",
       "      <td>9.47025</td>\n",
       "      <td>43.72730</td>\n",
       "      <td>16.63670</td>\n",
       "      <td>120</td>\n",
       "      <td>1229</td>\n",
       "      <td>1349</td>\n",
       "    </tr>\n",
       "    <tr>\n",
       "      <th>3</th>\n",
       "      <td>2011-01-04</td>\n",
       "      <td>1</td>\n",
       "      <td>0</td>\n",
       "      <td>1</td>\n",
       "      <td>0</td>\n",
       "      <td>2</td>\n",
       "      <td>1</td>\n",
       "      <td>1</td>\n",
       "      <td>8.20000</td>\n",
       "      <td>10.60610</td>\n",
       "      <td>59.04350</td>\n",
       "      <td>10.73983</td>\n",
       "      <td>108</td>\n",
       "      <td>1454</td>\n",
       "      <td>1562</td>\n",
       "    </tr>\n",
       "    <tr>\n",
       "      <th>4</th>\n",
       "      <td>2011-01-05</td>\n",
       "      <td>1</td>\n",
       "      <td>0</td>\n",
       "      <td>1</td>\n",
       "      <td>0</td>\n",
       "      <td>3</td>\n",
       "      <td>1</td>\n",
       "      <td>1</td>\n",
       "      <td>9.30524</td>\n",
       "      <td>11.46350</td>\n",
       "      <td>43.69570</td>\n",
       "      <td>12.52230</td>\n",
       "      <td>82</td>\n",
       "      <td>1518</td>\n",
       "      <td>1600</td>\n",
       "    </tr>\n",
       "  </tbody>\n",
       "</table>\n",
       "</div>"
      ],
      "text/plain": [
       "       dteday  season  yr  mnth  holiday  weekday  workingday  weathersit  \\\n",
       "0  2011-01-01       1   0     1        0        6           0           2   \n",
       "1  2011-01-02       1   0     1        0        0           0           2   \n",
       "2  2011-01-03       1   0     1        0        1           1           1   \n",
       "3  2011-01-04       1   0     1        0        2           1           1   \n",
       "4  2011-01-05       1   0     1        0        3           1           1   \n",
       "\n",
       "      temp    atemp      hum  windspeed  casual  registered   cnt  \n",
       "0 14.11085 18.18125 80.58330   10.74988     331         654   985  \n",
       "1 14.90260 17.68695 69.60870   16.65211     131         670   801  \n",
       "2  8.05092  9.47025 43.72730   16.63670     120        1229  1349  \n",
       "3  8.20000 10.60610 59.04350   10.73983     108        1454  1562  \n",
       "4  9.30524 11.46350 43.69570   12.52230      82        1518  1600  "
      ]
     },
     "execution_count": 35,
     "metadata": {},
     "output_type": "execute_result"
    }
   ],
   "source": [
    "day.head()"
   ]
  },
  {
   "cell_type": "code",
   "execution_count": 40,
   "metadata": {
    "collapsed": true,
    "jupyter": {
     "outputs_hidden": true
    }
   },
   "outputs": [
    {
     "data": {
      "text/html": [
       "<div>\n",
       "<style scoped>\n",
       "    .dataframe tbody tr th:only-of-type {\n",
       "        vertical-align: middle;\n",
       "    }\n",
       "\n",
       "    .dataframe tbody tr th {\n",
       "        vertical-align: top;\n",
       "    }\n",
       "\n",
       "    .dataframe thead th {\n",
       "        text-align: right;\n",
       "    }\n",
       "</style>\n",
       "<table border=\"1\" class=\"dataframe\">\n",
       "  <thead>\n",
       "    <tr style=\"text-align: right;\">\n",
       "      <th></th>\n",
       "      <th>dteday</th>\n",
       "      <th>season</th>\n",
       "      <th>yr</th>\n",
       "      <th>mnth</th>\n",
       "      <th>hr</th>\n",
       "      <th>holiday</th>\n",
       "      <th>weekday</th>\n",
       "      <th>workingday</th>\n",
       "      <th>weathersit</th>\n",
       "      <th>temp</th>\n",
       "      <th>atemp</th>\n",
       "      <th>hum</th>\n",
       "      <th>windspeed</th>\n",
       "      <th>casual</th>\n",
       "      <th>registered</th>\n",
       "      <th>cnt</th>\n",
       "    </tr>\n",
       "  </thead>\n",
       "  <tbody>\n",
       "    <tr>\n",
       "      <th>0</th>\n",
       "      <td>2011-01-01</td>\n",
       "      <td>1</td>\n",
       "      <td>0</td>\n",
       "      <td>1</td>\n",
       "      <td>0</td>\n",
       "      <td>0</td>\n",
       "      <td>6</td>\n",
       "      <td>0</td>\n",
       "      <td>1</td>\n",
       "      <td>9.84000</td>\n",
       "      <td>14.39500</td>\n",
       "      <td>81.00000</td>\n",
       "      <td>0.00000</td>\n",
       "      <td>3</td>\n",
       "      <td>13</td>\n",
       "      <td>16</td>\n",
       "    </tr>\n",
       "    <tr>\n",
       "      <th>1</th>\n",
       "      <td>2011-01-01</td>\n",
       "      <td>1</td>\n",
       "      <td>0</td>\n",
       "      <td>1</td>\n",
       "      <td>1</td>\n",
       "      <td>0</td>\n",
       "      <td>6</td>\n",
       "      <td>0</td>\n",
       "      <td>1</td>\n",
       "      <td>9.02000</td>\n",
       "      <td>13.63500</td>\n",
       "      <td>80.00000</td>\n",
       "      <td>0.00000</td>\n",
       "      <td>8</td>\n",
       "      <td>32</td>\n",
       "      <td>40</td>\n",
       "    </tr>\n",
       "    <tr>\n",
       "      <th>2</th>\n",
       "      <td>2011-01-01</td>\n",
       "      <td>1</td>\n",
       "      <td>0</td>\n",
       "      <td>1</td>\n",
       "      <td>2</td>\n",
       "      <td>0</td>\n",
       "      <td>6</td>\n",
       "      <td>0</td>\n",
       "      <td>1</td>\n",
       "      <td>9.02000</td>\n",
       "      <td>13.63500</td>\n",
       "      <td>80.00000</td>\n",
       "      <td>0.00000</td>\n",
       "      <td>5</td>\n",
       "      <td>27</td>\n",
       "      <td>32</td>\n",
       "    </tr>\n",
       "    <tr>\n",
       "      <th>3</th>\n",
       "      <td>2011-01-01</td>\n",
       "      <td>1</td>\n",
       "      <td>0</td>\n",
       "      <td>1</td>\n",
       "      <td>3</td>\n",
       "      <td>0</td>\n",
       "      <td>6</td>\n",
       "      <td>0</td>\n",
       "      <td>1</td>\n",
       "      <td>9.84000</td>\n",
       "      <td>14.39500</td>\n",
       "      <td>75.00000</td>\n",
       "      <td>0.00000</td>\n",
       "      <td>3</td>\n",
       "      <td>10</td>\n",
       "      <td>13</td>\n",
       "    </tr>\n",
       "    <tr>\n",
       "      <th>4</th>\n",
       "      <td>2011-01-01</td>\n",
       "      <td>1</td>\n",
       "      <td>0</td>\n",
       "      <td>1</td>\n",
       "      <td>4</td>\n",
       "      <td>0</td>\n",
       "      <td>6</td>\n",
       "      <td>0</td>\n",
       "      <td>1</td>\n",
       "      <td>9.84000</td>\n",
       "      <td>14.39500</td>\n",
       "      <td>75.00000</td>\n",
       "      <td>0.00000</td>\n",
       "      <td>0</td>\n",
       "      <td>1</td>\n",
       "      <td>1</td>\n",
       "    </tr>\n",
       "  </tbody>\n",
       "</table>\n",
       "</div>"
      ],
      "text/plain": [
       "       dteday  season  yr  mnth  hr  holiday  weekday  workingday  weathersit  \\\n",
       "0  2011-01-01       1   0     1   0        0        6           0           1   \n",
       "1  2011-01-01       1   0     1   1        0        6           0           1   \n",
       "2  2011-01-01       1   0     1   2        0        6           0           1   \n",
       "3  2011-01-01       1   0     1   3        0        6           0           1   \n",
       "4  2011-01-01       1   0     1   4        0        6           0           1   \n",
       "\n",
       "     temp    atemp      hum  windspeed  casual  registered  cnt  \n",
       "0 9.84000 14.39500 81.00000    0.00000       3          13   16  \n",
       "1 9.02000 13.63500 80.00000    0.00000       8          32   40  \n",
       "2 9.02000 13.63500 80.00000    0.00000       5          27   32  \n",
       "3 9.84000 14.39500 75.00000    0.00000       3          10   13  \n",
       "4 9.84000 14.39500 75.00000    0.00000       0           1    1  "
      ]
     },
     "execution_count": 40,
     "metadata": {},
     "output_type": "execute_result"
    }
   ],
   "source": [
    "hour.head()"
   ]
  },
  {
   "cell_type": "code",
   "execution_count": 7,
   "metadata": {
    "collapsed": true,
    "jupyter": {
     "outputs_hidden": true
    }
   },
   "outputs": [
    {
     "name": "stdout",
     "output_type": "stream",
     "text": [
      "<class 'pandas.core.frame.DataFrame'>\n",
      "RangeIndex: 17379 entries, 0 to 17378\n",
      "Data columns (total 17 columns):\n",
      " #   Column      Non-Null Count  Dtype  \n",
      "---  ------      --------------  -----  \n",
      " 0   instant     17379 non-null  int64  \n",
      " 1   dteday      17379 non-null  object \n",
      " 2   season      17379 non-null  int64  \n",
      " 3   yr          17379 non-null  int64  \n",
      " 4   mnth        17379 non-null  int64  \n",
      " 5   hr          17379 non-null  int64  \n",
      " 6   holiday     17379 non-null  int64  \n",
      " 7   weekday     17379 non-null  int64  \n",
      " 8   workingday  17379 non-null  int64  \n",
      " 9   weathersit  17379 non-null  int64  \n",
      " 10  temp        17379 non-null  float64\n",
      " 11  atemp       17379 non-null  float64\n",
      " 12  hum         17379 non-null  float64\n",
      " 13  windspeed   17379 non-null  float64\n",
      " 14  casual      17379 non-null  int64  \n",
      " 15  registered  17379 non-null  int64  \n",
      " 16  cnt         17379 non-null  int64  \n",
      "dtypes: float64(4), int64(12), object(1)\n",
      "memory usage: 2.3+ MB\n"
     ]
    }
   ],
   "source": [
    "hour.info()"
   ]
  },
  {
   "cell_type": "code",
   "execution_count": 8,
   "metadata": {},
   "outputs": [],
   "source": [
    "day['temp'] = day['temp']*41\n",
    "hour['temp'] = hour['temp']*41\n",
    "\n",
    "day['atemp'] = day['atemp']*50\n",
    "hour['atemp'] = hour['atemp']*50\n",
    "\n",
    "day['hum'] = day['hum']*100\n",
    "hour['hum'] = hour['hum']*100\n",
    "\n",
    "day['windspeed'] = day['windspeed']*67\n",
    "hour['windspeed'] = hour['windspeed']*67"
   ]
  },
  {
   "cell_type": "code",
   "execution_count": 9,
   "metadata": {
    "collapsed": true,
    "jupyter": {
     "outputs_hidden": true
    }
   },
   "outputs": [
    {
     "data": {
      "text/html": [
       "<div>\n",
       "<style scoped>\n",
       "    .dataframe tbody tr th:only-of-type {\n",
       "        vertical-align: middle;\n",
       "    }\n",
       "\n",
       "    .dataframe tbody tr th {\n",
       "        vertical-align: top;\n",
       "    }\n",
       "\n",
       "    .dataframe thead th {\n",
       "        text-align: right;\n",
       "    }\n",
       "</style>\n",
       "<table border=\"1\" class=\"dataframe\">\n",
       "  <thead>\n",
       "    <tr style=\"text-align: right;\">\n",
       "      <th></th>\n",
       "      <th>instant</th>\n",
       "      <th>dteday</th>\n",
       "      <th>season</th>\n",
       "      <th>yr</th>\n",
       "      <th>mnth</th>\n",
       "      <th>holiday</th>\n",
       "      <th>weekday</th>\n",
       "      <th>workingday</th>\n",
       "      <th>weathersit</th>\n",
       "      <th>temp</th>\n",
       "      <th>atemp</th>\n",
       "      <th>hum</th>\n",
       "      <th>windspeed</th>\n",
       "      <th>casual</th>\n",
       "      <th>registered</th>\n",
       "      <th>cnt</th>\n",
       "    </tr>\n",
       "  </thead>\n",
       "  <tbody>\n",
       "    <tr>\n",
       "      <th>0</th>\n",
       "      <td>1</td>\n",
       "      <td>2011-01-01</td>\n",
       "      <td>1</td>\n",
       "      <td>0</td>\n",
       "      <td>1</td>\n",
       "      <td>0</td>\n",
       "      <td>6</td>\n",
       "      <td>0</td>\n",
       "      <td>2</td>\n",
       "      <td>14.11085</td>\n",
       "      <td>18.18125</td>\n",
       "      <td>80.58330</td>\n",
       "      <td>10.74988</td>\n",
       "      <td>331</td>\n",
       "      <td>654</td>\n",
       "      <td>985</td>\n",
       "    </tr>\n",
       "    <tr>\n",
       "      <th>1</th>\n",
       "      <td>2</td>\n",
       "      <td>2011-01-02</td>\n",
       "      <td>1</td>\n",
       "      <td>0</td>\n",
       "      <td>1</td>\n",
       "      <td>0</td>\n",
       "      <td>0</td>\n",
       "      <td>0</td>\n",
       "      <td>2</td>\n",
       "      <td>14.90260</td>\n",
       "      <td>17.68695</td>\n",
       "      <td>69.60870</td>\n",
       "      <td>16.65211</td>\n",
       "      <td>131</td>\n",
       "      <td>670</td>\n",
       "      <td>801</td>\n",
       "    </tr>\n",
       "    <tr>\n",
       "      <th>2</th>\n",
       "      <td>3</td>\n",
       "      <td>2011-01-03</td>\n",
       "      <td>1</td>\n",
       "      <td>0</td>\n",
       "      <td>1</td>\n",
       "      <td>0</td>\n",
       "      <td>1</td>\n",
       "      <td>1</td>\n",
       "      <td>1</td>\n",
       "      <td>8.05092</td>\n",
       "      <td>9.47025</td>\n",
       "      <td>43.72730</td>\n",
       "      <td>16.63670</td>\n",
       "      <td>120</td>\n",
       "      <td>1229</td>\n",
       "      <td>1349</td>\n",
       "    </tr>\n",
       "    <tr>\n",
       "      <th>3</th>\n",
       "      <td>4</td>\n",
       "      <td>2011-01-04</td>\n",
       "      <td>1</td>\n",
       "      <td>0</td>\n",
       "      <td>1</td>\n",
       "      <td>0</td>\n",
       "      <td>2</td>\n",
       "      <td>1</td>\n",
       "      <td>1</td>\n",
       "      <td>8.20000</td>\n",
       "      <td>10.60610</td>\n",
       "      <td>59.04350</td>\n",
       "      <td>10.73983</td>\n",
       "      <td>108</td>\n",
       "      <td>1454</td>\n",
       "      <td>1562</td>\n",
       "    </tr>\n",
       "    <tr>\n",
       "      <th>4</th>\n",
       "      <td>5</td>\n",
       "      <td>2011-01-05</td>\n",
       "      <td>1</td>\n",
       "      <td>0</td>\n",
       "      <td>1</td>\n",
       "      <td>0</td>\n",
       "      <td>3</td>\n",
       "      <td>1</td>\n",
       "      <td>1</td>\n",
       "      <td>9.30524</td>\n",
       "      <td>11.46350</td>\n",
       "      <td>43.69570</td>\n",
       "      <td>12.52230</td>\n",
       "      <td>82</td>\n",
       "      <td>1518</td>\n",
       "      <td>1600</td>\n",
       "    </tr>\n",
       "  </tbody>\n",
       "</table>\n",
       "</div>"
      ],
      "text/plain": [
       "   instant      dteday  season  yr  mnth  holiday  weekday  workingday  \\\n",
       "0        1  2011-01-01       1   0     1        0        6           0   \n",
       "1        2  2011-01-02       1   0     1        0        0           0   \n",
       "2        3  2011-01-03       1   0     1        0        1           1   \n",
       "3        4  2011-01-04       1   0     1        0        2           1   \n",
       "4        5  2011-01-05       1   0     1        0        3           1   \n",
       "\n",
       "   weathersit     temp    atemp      hum  windspeed  casual  registered   cnt  \n",
       "0           2 14.11085 18.18125 80.58330   10.74988     331         654   985  \n",
       "1           2 14.90260 17.68695 69.60870   16.65211     131         670   801  \n",
       "2           1  8.05092  9.47025 43.72730   16.63670     120        1229  1349  \n",
       "3           1  8.20000 10.60610 59.04350   10.73983     108        1454  1562  \n",
       "4           1  9.30524 11.46350 43.69570   12.52230      82        1518  1600  "
      ]
     },
     "execution_count": 9,
     "metadata": {},
     "output_type": "execute_result"
    }
   ],
   "source": [
    "day.head()"
   ]
  },
  {
   "cell_type": "code",
   "execution_count": 10,
   "metadata": {
    "collapsed": true,
    "jupyter": {
     "outputs_hidden": true
    }
   },
   "outputs": [
    {
     "name": "stdout",
     "output_type": "stream",
     "text": [
      "<class 'pandas.core.frame.DataFrame'>\n",
      "RangeIndex: 17379 entries, 0 to 17378\n",
      "Data columns (total 17 columns):\n",
      " #   Column      Non-Null Count  Dtype  \n",
      "---  ------      --------------  -----  \n",
      " 0   instant     17379 non-null  int64  \n",
      " 1   dteday      17379 non-null  object \n",
      " 2   season      17379 non-null  int64  \n",
      " 3   yr          17379 non-null  int64  \n",
      " 4   mnth        17379 non-null  int64  \n",
      " 5   hr          17379 non-null  int64  \n",
      " 6   holiday     17379 non-null  int64  \n",
      " 7   weekday     17379 non-null  int64  \n",
      " 8   workingday  17379 non-null  int64  \n",
      " 9   weathersit  17379 non-null  int64  \n",
      " 10  temp        17379 non-null  float64\n",
      " 11  atemp       17379 non-null  float64\n",
      " 12  hum         17379 non-null  float64\n",
      " 13  windspeed   17379 non-null  float64\n",
      " 14  casual      17379 non-null  int64  \n",
      " 15  registered  17379 non-null  int64  \n",
      " 16  cnt         17379 non-null  int64  \n",
      "dtypes: float64(4), int64(12), object(1)\n",
      "memory usage: 2.3+ MB\n"
     ]
    }
   ],
   "source": [
    "hour.info()"
   ]
  },
  {
   "cell_type": "code",
   "execution_count": 11,
   "metadata": {
    "collapsed": true,
    "jupyter": {
     "outputs_hidden": true
    }
   },
   "outputs": [
    {
     "data": {
      "text/plain": [
       "instant       0\n",
       "dteday        0\n",
       "season        0\n",
       "yr            0\n",
       "mnth          0\n",
       "holiday       0\n",
       "weekday       0\n",
       "workingday    0\n",
       "weathersit    0\n",
       "temp          0\n",
       "atemp         0\n",
       "hum           0\n",
       "windspeed     0\n",
       "casual        0\n",
       "registered    0\n",
       "cnt           0\n",
       "dtype: int64"
      ]
     },
     "execution_count": 11,
     "metadata": {},
     "output_type": "execute_result"
    }
   ],
   "source": [
    "day.isna().sum()"
   ]
  },
  {
   "cell_type": "code",
   "execution_count": 12,
   "metadata": {
    "collapsed": true,
    "jupyter": {
     "outputs_hidden": true
    }
   },
   "outputs": [
    {
     "data": {
      "text/plain": [
       "instant       0\n",
       "dteday        0\n",
       "season        0\n",
       "yr            0\n",
       "mnth          0\n",
       "hr            0\n",
       "holiday       0\n",
       "weekday       0\n",
       "workingday    0\n",
       "weathersit    0\n",
       "temp          0\n",
       "atemp         0\n",
       "hum           0\n",
       "windspeed     0\n",
       "casual        0\n",
       "registered    0\n",
       "cnt           0\n",
       "dtype: int64"
      ]
     },
     "execution_count": 12,
     "metadata": {},
     "output_type": "execute_result"
    }
   ],
   "source": [
    "hour.isna().sum()"
   ]
  },
  {
   "cell_type": "code",
   "execution_count": 13,
   "metadata": {
    "collapsed": true,
    "jupyter": {
     "outputs_hidden": true
    }
   },
   "outputs": [
    {
     "name": "stdout",
     "output_type": "stream",
     "text": [
      "<class 'pandas.core.frame.DataFrame'>\n",
      "RangeIndex: 17379 entries, 0 to 17378\n",
      "Data columns (total 17 columns):\n",
      " #   Column      Non-Null Count  Dtype  \n",
      "---  ------      --------------  -----  \n",
      " 0   instant     17379 non-null  int64  \n",
      " 1   dteday      17379 non-null  object \n",
      " 2   season      17379 non-null  int64  \n",
      " 3   yr          17379 non-null  int64  \n",
      " 4   mnth        17379 non-null  int64  \n",
      " 5   hr          17379 non-null  int64  \n",
      " 6   holiday     17379 non-null  int64  \n",
      " 7   weekday     17379 non-null  int64  \n",
      " 8   workingday  17379 non-null  int64  \n",
      " 9   weathersit  17379 non-null  int64  \n",
      " 10  temp        17379 non-null  float64\n",
      " 11  atemp       17379 non-null  float64\n",
      " 12  hum         17379 non-null  float64\n",
      " 13  windspeed   17379 non-null  float64\n",
      " 14  casual      17379 non-null  int64  \n",
      " 15  registered  17379 non-null  int64  \n",
      " 16  cnt         17379 non-null  int64  \n",
      "dtypes: float64(4), int64(12), object(1)\n",
      "memory usage: 2.3+ MB\n"
     ]
    }
   ],
   "source": [
    "hour.info()"
   ]
  },
  {
   "cell_type": "code",
   "execution_count": 14,
   "metadata": {
    "collapsed": true,
    "jupyter": {
     "outputs_hidden": true
    }
   },
   "outputs": [
    {
     "data": {
      "text/html": [
       "<div>\n",
       "<style scoped>\n",
       "    .dataframe tbody tr th:only-of-type {\n",
       "        vertical-align: middle;\n",
       "    }\n",
       "\n",
       "    .dataframe tbody tr th {\n",
       "        vertical-align: top;\n",
       "    }\n",
       "\n",
       "    .dataframe thead th {\n",
       "        text-align: right;\n",
       "    }\n",
       "</style>\n",
       "<table border=\"1\" class=\"dataframe\">\n",
       "  <thead>\n",
       "    <tr style=\"text-align: right;\">\n",
       "      <th></th>\n",
       "      <th>count</th>\n",
       "      <th>mean</th>\n",
       "      <th>std</th>\n",
       "      <th>min</th>\n",
       "      <th>25%</th>\n",
       "      <th>50%</th>\n",
       "      <th>75%</th>\n",
       "      <th>max</th>\n",
       "    </tr>\n",
       "  </thead>\n",
       "  <tbody>\n",
       "    <tr>\n",
       "      <th>instant</th>\n",
       "      <td>731.00000</td>\n",
       "      <td>366.00000</td>\n",
       "      <td>211.16581</td>\n",
       "      <td>1.00000</td>\n",
       "      <td>183.50000</td>\n",
       "      <td>366.00000</td>\n",
       "      <td>548.50000</td>\n",
       "      <td>731.00000</td>\n",
       "    </tr>\n",
       "    <tr>\n",
       "      <th>season</th>\n",
       "      <td>731.00000</td>\n",
       "      <td>2.49658</td>\n",
       "      <td>1.11081</td>\n",
       "      <td>1.00000</td>\n",
       "      <td>2.00000</td>\n",
       "      <td>3.00000</td>\n",
       "      <td>3.00000</td>\n",
       "      <td>4.00000</td>\n",
       "    </tr>\n",
       "    <tr>\n",
       "      <th>yr</th>\n",
       "      <td>731.00000</td>\n",
       "      <td>0.50068</td>\n",
       "      <td>0.50034</td>\n",
       "      <td>0.00000</td>\n",
       "      <td>0.00000</td>\n",
       "      <td>1.00000</td>\n",
       "      <td>1.00000</td>\n",
       "      <td>1.00000</td>\n",
       "    </tr>\n",
       "    <tr>\n",
       "      <th>mnth</th>\n",
       "      <td>731.00000</td>\n",
       "      <td>6.51984</td>\n",
       "      <td>3.45191</td>\n",
       "      <td>1.00000</td>\n",
       "      <td>4.00000</td>\n",
       "      <td>7.00000</td>\n",
       "      <td>10.00000</td>\n",
       "      <td>12.00000</td>\n",
       "    </tr>\n",
       "    <tr>\n",
       "      <th>holiday</th>\n",
       "      <td>731.00000</td>\n",
       "      <td>0.02873</td>\n",
       "      <td>0.16715</td>\n",
       "      <td>0.00000</td>\n",
       "      <td>0.00000</td>\n",
       "      <td>0.00000</td>\n",
       "      <td>0.00000</td>\n",
       "      <td>1.00000</td>\n",
       "    </tr>\n",
       "    <tr>\n",
       "      <th>weekday</th>\n",
       "      <td>731.00000</td>\n",
       "      <td>2.99726</td>\n",
       "      <td>2.00479</td>\n",
       "      <td>0.00000</td>\n",
       "      <td>1.00000</td>\n",
       "      <td>3.00000</td>\n",
       "      <td>5.00000</td>\n",
       "      <td>6.00000</td>\n",
       "    </tr>\n",
       "    <tr>\n",
       "      <th>workingday</th>\n",
       "      <td>731.00000</td>\n",
       "      <td>0.68399</td>\n",
       "      <td>0.46523</td>\n",
       "      <td>0.00000</td>\n",
       "      <td>0.00000</td>\n",
       "      <td>1.00000</td>\n",
       "      <td>1.00000</td>\n",
       "      <td>1.00000</td>\n",
       "    </tr>\n",
       "    <tr>\n",
       "      <th>weathersit</th>\n",
       "      <td>731.00000</td>\n",
       "      <td>1.39535</td>\n",
       "      <td>0.54489</td>\n",
       "      <td>1.00000</td>\n",
       "      <td>1.00000</td>\n",
       "      <td>1.00000</td>\n",
       "      <td>2.00000</td>\n",
       "      <td>3.00000</td>\n",
       "    </tr>\n",
       "    <tr>\n",
       "      <th>temp</th>\n",
       "      <td>731.00000</td>\n",
       "      <td>20.31078</td>\n",
       "      <td>7.50509</td>\n",
       "      <td>2.42435</td>\n",
       "      <td>13.82042</td>\n",
       "      <td>20.43165</td>\n",
       "      <td>26.87208</td>\n",
       "      <td>35.32835</td>\n",
       "    </tr>\n",
       "    <tr>\n",
       "      <th>atemp</th>\n",
       "      <td>731.00000</td>\n",
       "      <td>23.71770</td>\n",
       "      <td>8.14806</td>\n",
       "      <td>3.95348</td>\n",
       "      <td>16.89213</td>\n",
       "      <td>24.33665</td>\n",
       "      <td>30.43010</td>\n",
       "      <td>42.04480</td>\n",
       "    </tr>\n",
       "    <tr>\n",
       "      <th>hum</th>\n",
       "      <td>731.00000</td>\n",
       "      <td>62.78941</td>\n",
       "      <td>14.24291</td>\n",
       "      <td>0.00000</td>\n",
       "      <td>52.00000</td>\n",
       "      <td>62.66670</td>\n",
       "      <td>73.02085</td>\n",
       "      <td>97.25000</td>\n",
       "    </tr>\n",
       "    <tr>\n",
       "      <th>windspeed</th>\n",
       "      <td>731.00000</td>\n",
       "      <td>12.76258</td>\n",
       "      <td>5.19236</td>\n",
       "      <td>1.50024</td>\n",
       "      <td>9.04165</td>\n",
       "      <td>12.12533</td>\n",
       "      <td>15.62537</td>\n",
       "      <td>34.00002</td>\n",
       "    </tr>\n",
       "    <tr>\n",
       "      <th>casual</th>\n",
       "      <td>731.00000</td>\n",
       "      <td>848.17647</td>\n",
       "      <td>686.62249</td>\n",
       "      <td>2.00000</td>\n",
       "      <td>315.50000</td>\n",
       "      <td>713.00000</td>\n",
       "      <td>1096.00000</td>\n",
       "      <td>3410.00000</td>\n",
       "    </tr>\n",
       "    <tr>\n",
       "      <th>registered</th>\n",
       "      <td>731.00000</td>\n",
       "      <td>3656.17237</td>\n",
       "      <td>1560.25638</td>\n",
       "      <td>20.00000</td>\n",
       "      <td>2497.00000</td>\n",
       "      <td>3662.00000</td>\n",
       "      <td>4776.50000</td>\n",
       "      <td>6946.00000</td>\n",
       "    </tr>\n",
       "    <tr>\n",
       "      <th>cnt</th>\n",
       "      <td>731.00000</td>\n",
       "      <td>4504.34884</td>\n",
       "      <td>1937.21145</td>\n",
       "      <td>22.00000</td>\n",
       "      <td>3152.00000</td>\n",
       "      <td>4548.00000</td>\n",
       "      <td>5956.00000</td>\n",
       "      <td>8714.00000</td>\n",
       "    </tr>\n",
       "  </tbody>\n",
       "</table>\n",
       "</div>"
      ],
      "text/plain": [
       "               count       mean        std      min        25%        50%  \\\n",
       "instant    731.00000  366.00000  211.16581  1.00000  183.50000  366.00000   \n",
       "season     731.00000    2.49658    1.11081  1.00000    2.00000    3.00000   \n",
       "yr         731.00000    0.50068    0.50034  0.00000    0.00000    1.00000   \n",
       "mnth       731.00000    6.51984    3.45191  1.00000    4.00000    7.00000   \n",
       "holiday    731.00000    0.02873    0.16715  0.00000    0.00000    0.00000   \n",
       "weekday    731.00000    2.99726    2.00479  0.00000    1.00000    3.00000   \n",
       "workingday 731.00000    0.68399    0.46523  0.00000    0.00000    1.00000   \n",
       "weathersit 731.00000    1.39535    0.54489  1.00000    1.00000    1.00000   \n",
       "temp       731.00000   20.31078    7.50509  2.42435   13.82042   20.43165   \n",
       "atemp      731.00000   23.71770    8.14806  3.95348   16.89213   24.33665   \n",
       "hum        731.00000   62.78941   14.24291  0.00000   52.00000   62.66670   \n",
       "windspeed  731.00000   12.76258    5.19236  1.50024    9.04165   12.12533   \n",
       "casual     731.00000  848.17647  686.62249  2.00000  315.50000  713.00000   \n",
       "registered 731.00000 3656.17237 1560.25638 20.00000 2497.00000 3662.00000   \n",
       "cnt        731.00000 4504.34884 1937.21145 22.00000 3152.00000 4548.00000   \n",
       "\n",
       "                  75%        max  \n",
       "instant     548.50000  731.00000  \n",
       "season        3.00000    4.00000  \n",
       "yr            1.00000    1.00000  \n",
       "mnth         10.00000   12.00000  \n",
       "holiday       0.00000    1.00000  \n",
       "weekday       5.00000    6.00000  \n",
       "workingday    1.00000    1.00000  \n",
       "weathersit    2.00000    3.00000  \n",
       "temp         26.87208   35.32835  \n",
       "atemp        30.43010   42.04480  \n",
       "hum          73.02085   97.25000  \n",
       "windspeed    15.62537   34.00002  \n",
       "casual     1096.00000 3410.00000  \n",
       "registered 4776.50000 6946.00000  \n",
       "cnt        5956.00000 8714.00000  "
      ]
     },
     "execution_count": 14,
     "metadata": {},
     "output_type": "execute_result"
    }
   ],
   "source": [
    "day.describe().T"
   ]
  },
  {
   "cell_type": "code",
   "execution_count": 15,
   "metadata": {},
   "outputs": [],
   "source": [
    "col = ['season','yr','mnth','hr','holiday','weekday','workingday','weathersit']"
   ]
  },
  {
   "cell_type": "code",
   "execution_count": 16,
   "metadata": {},
   "outputs": [],
   "source": [
    "def change_dtype(data,col):\n",
    "    for i in col:\n",
    "        if i in data.columns.to_list():\n",
    "            data[i]-data[i].astype(' category')"
   ]
  },
  {
   "cell_type": "code",
   "execution_count": 17,
   "metadata": {},
   "outputs": [
    {
     "name": "stdout",
     "output_type": "stream",
     "text": [
      "Name of season col\n",
      "No. of NUnique 4\n",
      "Unique Values [1 2 3 4]\n",
      "******************************\n",
      "\n",
      "\n",
      "Name of yr col\n",
      "No. of NUnique 2\n",
      "Unique Values [0 1]\n",
      "******************************\n",
      "\n",
      "\n",
      "Name of mnth col\n",
      "No. of NUnique 12\n",
      "Unique Values [ 1  2  3  4  5  6  7  8  9 10 11 12]\n",
      "******************************\n",
      "\n",
      "\n",
      "Name of hr col\n",
      "No. of NUnique 24\n",
      "Unique Values [ 0  1  2  3  4  5  6  7  8  9 10 11 12 13 14 15 16 17 18 19 20 21 22 23]\n",
      "******************************\n",
      "\n",
      "\n",
      "Name of holiday col\n",
      "No. of NUnique 2\n",
      "Unique Values [0 1]\n",
      "******************************\n",
      "\n",
      "\n",
      "Name of weekday col\n",
      "No. of NUnique 7\n",
      "Unique Values [6 0 1 2 3 4 5]\n",
      "******************************\n",
      "\n",
      "\n",
      "Name of workingday col\n",
      "No. of NUnique 2\n",
      "Unique Values [0 1]\n",
      "******************************\n",
      "\n",
      "\n",
      "Name of weathersit col\n",
      "No. of NUnique 4\n",
      "Unique Values [1 2 3 4]\n",
      "******************************\n",
      "\n",
      "\n"
     ]
    }
   ],
   "source": [
    "for i in col:\n",
    "    print(\"Name of {} col\".format(i))\n",
    "    print(\"No. of NUnique\", hour[i].nunique())\n",
    "    print(\"Unique Values\", hour[i].unique())\n",
    "    print('*'*30)\n",
    "    print()\n",
    "    print()"
   ]
  },
  {
   "cell_type": "code",
   "execution_count": 18,
   "metadata": {},
   "outputs": [],
   "source": [
    "def drop_instant(data):\n",
    "    data.drop(['instant'], axis=1, inplace=True)\n",
    "    \n",
    "drop_instant(day)\n",
    "drop_instant(hour)"
   ]
  },
  {
   "cell_type": "code",
   "execution_count": 19,
   "metadata": {},
   "outputs": [
    {
     "data": {
      "text/html": [
       "<div>\n",
       "<style scoped>\n",
       "    .dataframe tbody tr th:only-of-type {\n",
       "        vertical-align: middle;\n",
       "    }\n",
       "\n",
       "    .dataframe tbody tr th {\n",
       "        vertical-align: top;\n",
       "    }\n",
       "\n",
       "    .dataframe thead th {\n",
       "        text-align: right;\n",
       "    }\n",
       "</style>\n",
       "<table border=\"1\" class=\"dataframe\">\n",
       "  <thead>\n",
       "    <tr style=\"text-align: right;\">\n",
       "      <th></th>\n",
       "      <th>count</th>\n",
       "      <th>mean</th>\n",
       "      <th>std</th>\n",
       "      <th>min</th>\n",
       "      <th>25%</th>\n",
       "      <th>50%</th>\n",
       "      <th>75%</th>\n",
       "      <th>max</th>\n",
       "    </tr>\n",
       "  </thead>\n",
       "  <tbody>\n",
       "    <tr>\n",
       "      <th>season</th>\n",
       "      <td>731.00000</td>\n",
       "      <td>2.49658</td>\n",
       "      <td>1.11081</td>\n",
       "      <td>1.00000</td>\n",
       "      <td>2.00000</td>\n",
       "      <td>3.00000</td>\n",
       "      <td>3.00000</td>\n",
       "      <td>4.00000</td>\n",
       "    </tr>\n",
       "    <tr>\n",
       "      <th>yr</th>\n",
       "      <td>731.00000</td>\n",
       "      <td>0.50068</td>\n",
       "      <td>0.50034</td>\n",
       "      <td>0.00000</td>\n",
       "      <td>0.00000</td>\n",
       "      <td>1.00000</td>\n",
       "      <td>1.00000</td>\n",
       "      <td>1.00000</td>\n",
       "    </tr>\n",
       "    <tr>\n",
       "      <th>mnth</th>\n",
       "      <td>731.00000</td>\n",
       "      <td>6.51984</td>\n",
       "      <td>3.45191</td>\n",
       "      <td>1.00000</td>\n",
       "      <td>4.00000</td>\n",
       "      <td>7.00000</td>\n",
       "      <td>10.00000</td>\n",
       "      <td>12.00000</td>\n",
       "    </tr>\n",
       "    <tr>\n",
       "      <th>holiday</th>\n",
       "      <td>731.00000</td>\n",
       "      <td>0.02873</td>\n",
       "      <td>0.16715</td>\n",
       "      <td>0.00000</td>\n",
       "      <td>0.00000</td>\n",
       "      <td>0.00000</td>\n",
       "      <td>0.00000</td>\n",
       "      <td>1.00000</td>\n",
       "    </tr>\n",
       "    <tr>\n",
       "      <th>weekday</th>\n",
       "      <td>731.00000</td>\n",
       "      <td>2.99726</td>\n",
       "      <td>2.00479</td>\n",
       "      <td>0.00000</td>\n",
       "      <td>1.00000</td>\n",
       "      <td>3.00000</td>\n",
       "      <td>5.00000</td>\n",
       "      <td>6.00000</td>\n",
       "    </tr>\n",
       "    <tr>\n",
       "      <th>workingday</th>\n",
       "      <td>731.00000</td>\n",
       "      <td>0.68399</td>\n",
       "      <td>0.46523</td>\n",
       "      <td>0.00000</td>\n",
       "      <td>0.00000</td>\n",
       "      <td>1.00000</td>\n",
       "      <td>1.00000</td>\n",
       "      <td>1.00000</td>\n",
       "    </tr>\n",
       "    <tr>\n",
       "      <th>weathersit</th>\n",
       "      <td>731.00000</td>\n",
       "      <td>1.39535</td>\n",
       "      <td>0.54489</td>\n",
       "      <td>1.00000</td>\n",
       "      <td>1.00000</td>\n",
       "      <td>1.00000</td>\n",
       "      <td>2.00000</td>\n",
       "      <td>3.00000</td>\n",
       "    </tr>\n",
       "    <tr>\n",
       "      <th>temp</th>\n",
       "      <td>731.00000</td>\n",
       "      <td>20.31078</td>\n",
       "      <td>7.50509</td>\n",
       "      <td>2.42435</td>\n",
       "      <td>13.82042</td>\n",
       "      <td>20.43165</td>\n",
       "      <td>26.87208</td>\n",
       "      <td>35.32835</td>\n",
       "    </tr>\n",
       "    <tr>\n",
       "      <th>atemp</th>\n",
       "      <td>731.00000</td>\n",
       "      <td>23.71770</td>\n",
       "      <td>8.14806</td>\n",
       "      <td>3.95348</td>\n",
       "      <td>16.89213</td>\n",
       "      <td>24.33665</td>\n",
       "      <td>30.43010</td>\n",
       "      <td>42.04480</td>\n",
       "    </tr>\n",
       "    <tr>\n",
       "      <th>hum</th>\n",
       "      <td>731.00000</td>\n",
       "      <td>62.78941</td>\n",
       "      <td>14.24291</td>\n",
       "      <td>0.00000</td>\n",
       "      <td>52.00000</td>\n",
       "      <td>62.66670</td>\n",
       "      <td>73.02085</td>\n",
       "      <td>97.25000</td>\n",
       "    </tr>\n",
       "    <tr>\n",
       "      <th>windspeed</th>\n",
       "      <td>731.00000</td>\n",
       "      <td>12.76258</td>\n",
       "      <td>5.19236</td>\n",
       "      <td>1.50024</td>\n",
       "      <td>9.04165</td>\n",
       "      <td>12.12533</td>\n",
       "      <td>15.62537</td>\n",
       "      <td>34.00002</td>\n",
       "    </tr>\n",
       "    <tr>\n",
       "      <th>casual</th>\n",
       "      <td>731.00000</td>\n",
       "      <td>848.17647</td>\n",
       "      <td>686.62249</td>\n",
       "      <td>2.00000</td>\n",
       "      <td>315.50000</td>\n",
       "      <td>713.00000</td>\n",
       "      <td>1096.00000</td>\n",
       "      <td>3410.00000</td>\n",
       "    </tr>\n",
       "    <tr>\n",
       "      <th>registered</th>\n",
       "      <td>731.00000</td>\n",
       "      <td>3656.17237</td>\n",
       "      <td>1560.25638</td>\n",
       "      <td>20.00000</td>\n",
       "      <td>2497.00000</td>\n",
       "      <td>3662.00000</td>\n",
       "      <td>4776.50000</td>\n",
       "      <td>6946.00000</td>\n",
       "    </tr>\n",
       "    <tr>\n",
       "      <th>cnt</th>\n",
       "      <td>731.00000</td>\n",
       "      <td>4504.34884</td>\n",
       "      <td>1937.21145</td>\n",
       "      <td>22.00000</td>\n",
       "      <td>3152.00000</td>\n",
       "      <td>4548.00000</td>\n",
       "      <td>5956.00000</td>\n",
       "      <td>8714.00000</td>\n",
       "    </tr>\n",
       "  </tbody>\n",
       "</table>\n",
       "</div>"
      ],
      "text/plain": [
       "               count       mean        std      min        25%        50%  \\\n",
       "season     731.00000    2.49658    1.11081  1.00000    2.00000    3.00000   \n",
       "yr         731.00000    0.50068    0.50034  0.00000    0.00000    1.00000   \n",
       "mnth       731.00000    6.51984    3.45191  1.00000    4.00000    7.00000   \n",
       "holiday    731.00000    0.02873    0.16715  0.00000    0.00000    0.00000   \n",
       "weekday    731.00000    2.99726    2.00479  0.00000    1.00000    3.00000   \n",
       "workingday 731.00000    0.68399    0.46523  0.00000    0.00000    1.00000   \n",
       "weathersit 731.00000    1.39535    0.54489  1.00000    1.00000    1.00000   \n",
       "temp       731.00000   20.31078    7.50509  2.42435   13.82042   20.43165   \n",
       "atemp      731.00000   23.71770    8.14806  3.95348   16.89213   24.33665   \n",
       "hum        731.00000   62.78941   14.24291  0.00000   52.00000   62.66670   \n",
       "windspeed  731.00000   12.76258    5.19236  1.50024    9.04165   12.12533   \n",
       "casual     731.00000  848.17647  686.62249  2.00000  315.50000  713.00000   \n",
       "registered 731.00000 3656.17237 1560.25638 20.00000 2497.00000 3662.00000   \n",
       "cnt        731.00000 4504.34884 1937.21145 22.00000 3152.00000 4548.00000   \n",
       "\n",
       "                  75%        max  \n",
       "season        3.00000    4.00000  \n",
       "yr            1.00000    1.00000  \n",
       "mnth         10.00000   12.00000  \n",
       "holiday       0.00000    1.00000  \n",
       "weekday       5.00000    6.00000  \n",
       "workingday    1.00000    1.00000  \n",
       "weathersit    2.00000    3.00000  \n",
       "temp         26.87208   35.32835  \n",
       "atemp        30.43010   42.04480  \n",
       "hum          73.02085   97.25000  \n",
       "windspeed    15.62537   34.00002  \n",
       "casual     1096.00000 3410.00000  \n",
       "registered 4776.50000 6946.00000  \n",
       "cnt        5956.00000 8714.00000  "
      ]
     },
     "execution_count": 19,
     "metadata": {},
     "output_type": "execute_result"
    }
   ],
   "source": [
    "day.describe().T"
   ]
  },
  {
   "cell_type": "code",
   "execution_count": 20,
   "metadata": {},
   "outputs": [
    {
     "data": {
      "text/html": [
       "<div>\n",
       "<style scoped>\n",
       "    .dataframe tbody tr th:only-of-type {\n",
       "        vertical-align: middle;\n",
       "    }\n",
       "\n",
       "    .dataframe tbody tr th {\n",
       "        vertical-align: top;\n",
       "    }\n",
       "\n",
       "    .dataframe thead th {\n",
       "        text-align: right;\n",
       "    }\n",
       "</style>\n",
       "<table border=\"1\" class=\"dataframe\">\n",
       "  <thead>\n",
       "    <tr style=\"text-align: right;\">\n",
       "      <th></th>\n",
       "      <th>count</th>\n",
       "      <th>mean</th>\n",
       "      <th>std</th>\n",
       "      <th>min</th>\n",
       "      <th>25%</th>\n",
       "      <th>50%</th>\n",
       "      <th>75%</th>\n",
       "      <th>max</th>\n",
       "    </tr>\n",
       "  </thead>\n",
       "  <tbody>\n",
       "    <tr>\n",
       "      <th>season</th>\n",
       "      <td>17379.00000</td>\n",
       "      <td>2.50164</td>\n",
       "      <td>1.10692</td>\n",
       "      <td>1.00000</td>\n",
       "      <td>2.00000</td>\n",
       "      <td>3.00000</td>\n",
       "      <td>3.00000</td>\n",
       "      <td>4.00000</td>\n",
       "    </tr>\n",
       "    <tr>\n",
       "      <th>yr</th>\n",
       "      <td>17379.00000</td>\n",
       "      <td>0.50256</td>\n",
       "      <td>0.50001</td>\n",
       "      <td>0.00000</td>\n",
       "      <td>0.00000</td>\n",
       "      <td>1.00000</td>\n",
       "      <td>1.00000</td>\n",
       "      <td>1.00000</td>\n",
       "    </tr>\n",
       "    <tr>\n",
       "      <th>mnth</th>\n",
       "      <td>17379.00000</td>\n",
       "      <td>6.53778</td>\n",
       "      <td>3.43878</td>\n",
       "      <td>1.00000</td>\n",
       "      <td>4.00000</td>\n",
       "      <td>7.00000</td>\n",
       "      <td>10.00000</td>\n",
       "      <td>12.00000</td>\n",
       "    </tr>\n",
       "    <tr>\n",
       "      <th>hr</th>\n",
       "      <td>17379.00000</td>\n",
       "      <td>11.54675</td>\n",
       "      <td>6.91441</td>\n",
       "      <td>0.00000</td>\n",
       "      <td>6.00000</td>\n",
       "      <td>12.00000</td>\n",
       "      <td>18.00000</td>\n",
       "      <td>23.00000</td>\n",
       "    </tr>\n",
       "    <tr>\n",
       "      <th>holiday</th>\n",
       "      <td>17379.00000</td>\n",
       "      <td>0.02877</td>\n",
       "      <td>0.16717</td>\n",
       "      <td>0.00000</td>\n",
       "      <td>0.00000</td>\n",
       "      <td>0.00000</td>\n",
       "      <td>0.00000</td>\n",
       "      <td>1.00000</td>\n",
       "    </tr>\n",
       "    <tr>\n",
       "      <th>weekday</th>\n",
       "      <td>17379.00000</td>\n",
       "      <td>3.00368</td>\n",
       "      <td>2.00577</td>\n",
       "      <td>0.00000</td>\n",
       "      <td>1.00000</td>\n",
       "      <td>3.00000</td>\n",
       "      <td>5.00000</td>\n",
       "      <td>6.00000</td>\n",
       "    </tr>\n",
       "    <tr>\n",
       "      <th>workingday</th>\n",
       "      <td>17379.00000</td>\n",
       "      <td>0.68272</td>\n",
       "      <td>0.46543</td>\n",
       "      <td>0.00000</td>\n",
       "      <td>0.00000</td>\n",
       "      <td>1.00000</td>\n",
       "      <td>1.00000</td>\n",
       "      <td>1.00000</td>\n",
       "    </tr>\n",
       "    <tr>\n",
       "      <th>weathersit</th>\n",
       "      <td>17379.00000</td>\n",
       "      <td>1.42528</td>\n",
       "      <td>0.63936</td>\n",
       "      <td>1.00000</td>\n",
       "      <td>1.00000</td>\n",
       "      <td>1.00000</td>\n",
       "      <td>2.00000</td>\n",
       "      <td>4.00000</td>\n",
       "    </tr>\n",
       "    <tr>\n",
       "      <th>temp</th>\n",
       "      <td>17379.00000</td>\n",
       "      <td>20.37647</td>\n",
       "      <td>7.89480</td>\n",
       "      <td>0.82000</td>\n",
       "      <td>13.94000</td>\n",
       "      <td>20.50000</td>\n",
       "      <td>27.06000</td>\n",
       "      <td>41.00000</td>\n",
       "    </tr>\n",
       "    <tr>\n",
       "      <th>atemp</th>\n",
       "      <td>17379.00000</td>\n",
       "      <td>23.78876</td>\n",
       "      <td>8.59251</td>\n",
       "      <td>0.00000</td>\n",
       "      <td>16.66500</td>\n",
       "      <td>24.24000</td>\n",
       "      <td>31.06000</td>\n",
       "      <td>50.00000</td>\n",
       "    </tr>\n",
       "    <tr>\n",
       "      <th>hum</th>\n",
       "      <td>17379.00000</td>\n",
       "      <td>62.72288</td>\n",
       "      <td>19.29298</td>\n",
       "      <td>0.00000</td>\n",
       "      <td>48.00000</td>\n",
       "      <td>63.00000</td>\n",
       "      <td>78.00000</td>\n",
       "      <td>100.00000</td>\n",
       "    </tr>\n",
       "    <tr>\n",
       "      <th>windspeed</th>\n",
       "      <td>17379.00000</td>\n",
       "      <td>12.73654</td>\n",
       "      <td>8.19680</td>\n",
       "      <td>0.00000</td>\n",
       "      <td>7.00150</td>\n",
       "      <td>12.99800</td>\n",
       "      <td>16.99790</td>\n",
       "      <td>56.99690</td>\n",
       "    </tr>\n",
       "    <tr>\n",
       "      <th>casual</th>\n",
       "      <td>17379.00000</td>\n",
       "      <td>35.67622</td>\n",
       "      <td>49.30503</td>\n",
       "      <td>0.00000</td>\n",
       "      <td>4.00000</td>\n",
       "      <td>17.00000</td>\n",
       "      <td>48.00000</td>\n",
       "      <td>367.00000</td>\n",
       "    </tr>\n",
       "    <tr>\n",
       "      <th>registered</th>\n",
       "      <td>17379.00000</td>\n",
       "      <td>153.78687</td>\n",
       "      <td>151.35729</td>\n",
       "      <td>0.00000</td>\n",
       "      <td>34.00000</td>\n",
       "      <td>115.00000</td>\n",
       "      <td>220.00000</td>\n",
       "      <td>886.00000</td>\n",
       "    </tr>\n",
       "    <tr>\n",
       "      <th>cnt</th>\n",
       "      <td>17379.00000</td>\n",
       "      <td>189.46309</td>\n",
       "      <td>181.38760</td>\n",
       "      <td>1.00000</td>\n",
       "      <td>40.00000</td>\n",
       "      <td>142.00000</td>\n",
       "      <td>281.00000</td>\n",
       "      <td>977.00000</td>\n",
       "    </tr>\n",
       "  </tbody>\n",
       "</table>\n",
       "</div>"
      ],
      "text/plain": [
       "                 count      mean       std     min      25%       50%  \\\n",
       "season     17379.00000   2.50164   1.10692 1.00000  2.00000   3.00000   \n",
       "yr         17379.00000   0.50256   0.50001 0.00000  0.00000   1.00000   \n",
       "mnth       17379.00000   6.53778   3.43878 1.00000  4.00000   7.00000   \n",
       "hr         17379.00000  11.54675   6.91441 0.00000  6.00000  12.00000   \n",
       "holiday    17379.00000   0.02877   0.16717 0.00000  0.00000   0.00000   \n",
       "weekday    17379.00000   3.00368   2.00577 0.00000  1.00000   3.00000   \n",
       "workingday 17379.00000   0.68272   0.46543 0.00000  0.00000   1.00000   \n",
       "weathersit 17379.00000   1.42528   0.63936 1.00000  1.00000   1.00000   \n",
       "temp       17379.00000  20.37647   7.89480 0.82000 13.94000  20.50000   \n",
       "atemp      17379.00000  23.78876   8.59251 0.00000 16.66500  24.24000   \n",
       "hum        17379.00000  62.72288  19.29298 0.00000 48.00000  63.00000   \n",
       "windspeed  17379.00000  12.73654   8.19680 0.00000  7.00150  12.99800   \n",
       "casual     17379.00000  35.67622  49.30503 0.00000  4.00000  17.00000   \n",
       "registered 17379.00000 153.78687 151.35729 0.00000 34.00000 115.00000   \n",
       "cnt        17379.00000 189.46309 181.38760 1.00000 40.00000 142.00000   \n",
       "\n",
       "                 75%       max  \n",
       "season       3.00000   4.00000  \n",
       "yr           1.00000   1.00000  \n",
       "mnth        10.00000  12.00000  \n",
       "hr          18.00000  23.00000  \n",
       "holiday      0.00000   1.00000  \n",
       "weekday      5.00000   6.00000  \n",
       "workingday   1.00000   1.00000  \n",
       "weathersit   2.00000   4.00000  \n",
       "temp        27.06000  41.00000  \n",
       "atemp       31.06000  50.00000  \n",
       "hum         78.00000 100.00000  \n",
       "windspeed   16.99790  56.99690  \n",
       "casual      48.00000 367.00000  \n",
       "registered 220.00000 886.00000  \n",
       "cnt        281.00000 977.00000  "
      ]
     },
     "execution_count": 20,
     "metadata": {},
     "output_type": "execute_result"
    }
   ],
   "source": [
    "hour.describe().T"
   ]
  },
  {
   "cell_type": "code",
   "execution_count": 21,
   "metadata": {},
   "outputs": [],
   "source": [
    "for i in day.select_dtypes(include='int' ):\n",
    "    sns. distplot(day[i])\n",
    "    plt. show()"
   ]
  },
  {
   "cell_type": "code",
   "execution_count": 22,
   "metadata": {},
   "outputs": [],
   "source": [
    "for i in hour.select_dtypes (include='int' ):\n",
    "    sns.distplot(hour[i])\n",
    "    plt.show( )"
   ]
  },
  {
   "cell_type": "code",
   "execution_count": 23,
   "metadata": {},
   "outputs": [],
   "source": [
    "for i in day. select_dtypes(include='int') :\n",
    "    sns.boxplot(day [i])\n",
    "    plt.show()"
   ]
  },
  {
   "cell_type": "code",
   "execution_count": 24,
   "metadata": {},
   "outputs": [],
   "source": [
    "for i in hour.select_dtypes (include='int' ):\n",
    "    sns.boxplot (hour[i])\n",
    "    plt. show()"
   ]
  },
  {
   "cell_type": "code",
   "execution_count": 25,
   "metadata": {},
   "outputs": [
    {
     "data": {
      "image/png": "[encoded data removed]",
      "text/plain": [
       "<Figure size 432x288 with 1 Axes>"
      ]
     },
     "metadata": {
      "needs_background": "light"
     },
     "output_type": "display_data"
    },
    {
     "data": {
      "image/png": "[encoded data removed]",
      "text/plain": [
       "<Figure size 432x288 with 1 Axes>"
      ]
     },
     "metadata": {
      "needs_background": "light"
     },
     "output_type": "display_data"
    },
    {
     "data": {
      "image/png": "[encoded data removed]",
      "text/plain": [
       "<Figure size 432x288 with 1 Axes>"
      ]
     },
     "metadata": {
      "needs_background": "light"
     },
     "output_type": "display_data"
    },
    {
     "data": {
      "image/png": "[encoded data removed]",
      "text/plain": [
       "<Figure size 432x288 with 1 Axes>"
      ]
     },
     "metadata": {
      "needs_background": "light"
     },
     "output_type": "display_data"
    }
   ],
   "source": [
    "for i in day.select_dtypes(include='float'):\n",
    "    sns.distplot(day[i])\n",
    "    plt.show()"
   ]
  },
  {
   "cell_type": "code",
   "execution_count": 26,
   "metadata": {},
   "outputs": [
    {
     "data": {
      "image/png": "[encoded data removed]",
      "text/plain": [
       "<Figure size 432x288 with 1 Axes>"
      ]
     },
     "metadata": {
      "needs_background": "light"
     },
     "output_type": "display_data"
    },
    {
     "data": {
      "image/png": "[encoded data removed]",
      "text/plain": [
       "<Figure size 432x288 with 1 Axes>"
      ]
     },
     "metadata": {
      "needs_background": "light"
     },
     "output_type": "display_data"
    },
    {
     "data": {
      "image/png": "[encoded data removed]",
      "text/plain": [
       "<Figure size 432x288 with 1 Axes>"
      ]
     },
     "metadata": {
      "needs_background": "light"
     },
     "output_type": "display_data"
    },
    {
     "data": {
      "image/png": "[encoded data removed]",
      "text/plain": [
       "<Figure size 432x288 with 1 Axes>"
      ]
     },
     "metadata": {
      "needs_background": "light"
     },
     "output_type": "display_data"
    }
   ],
   "source": [
    "for i in day.select_dtypes(include='float'):\n",
    "    sns.boxplot(day[i])\n",
    "    plt.show()"
   ]
  },
  {
   "cell_type": "code",
   "execution_count": 27,
   "metadata": {},
   "outputs": [
    {
     "data": {
      "image/png": "[encoded data removed]",
      "text/plain": [
       "<Figure size 432x288 with 1 Axes>"
      ]
     },
     "metadata": {
      "needs_background": "light"
     },
     "output_type": "display_data"
    },
    {
     "data": {
      "image/png": "[encoded data removed]",
      "text/plain": [
       "<Figure size 432x288 with 1 Axes>"
      ]
     },
     "metadata": {
      "needs_background": "light"
     },
     "output_type": "display_data"
    },
    {
     "data": {
      "image/png": "[encoded data removed]",
      "text/plain": [
       "<Figure size 432x288 with 1 Axes>"
      ]
     },
     "metadata": {
      "needs_background": "light"
     },
     "output_type": "display_data"
    },
    {
     "data": {
      "image/png": "[encoded data removed]",
      "text/plain": [
       "<Figure size 432x288 with 1 Axes>"
      ]
     },
     "metadata": {
      "needs_background": "light"
     },
     "output_type": "display_data"
    }
   ],
   "source": [
    "for i in hour.select_dtypes(include='float'):\n",
    "    sns.boxplot(day[i])\n",
    "    plt.show()"
   ]
  },
  {
   "cell_type": "code",
   "execution_count": 28,
   "metadata": {},
   "outputs": [
    {
     "data": {
      "text/plain": [
       "<AxesSubplot:>"
      ]
     },
     "execution_count": 28,
     "metadata": {},
     "output_type": "execute_result"
    },
    {
     "data": {
      "image/png": "[encoded data removed]",
      "text/plain": [
       "<Figure size 432x288 with 2 Axes>"
      ]
     },
     "metadata": {
      "needs_background": "light"
     },
     "output_type": "display_data"
    }
   ],
   "source": [
    "sns.heatmap(day.corr())"
   ]
  },
  {
   "cell_type": "code",
   "execution_count": 29,
   "metadata": {},
   "outputs": [
    {
     "data": {
      "text/plain": [
       "season        0.40610\n",
       "yr            0.56671\n",
       "mnth          0.27998\n",
       "holiday      -0.06835\n",
       "weekday       0.06744\n",
       "workingday    0.06116\n",
       "weathersit   -0.29739\n",
       "temp          0.62749\n",
       "atemp         0.63107\n",
       "hum          -0.10066\n",
       "windspeed    -0.23454\n",
       "casual        0.67280\n",
       "registered    0.94552\n",
       "cnt           1.00000\n",
       "Name: cnt, dtype: float64"
      ]
     },
     "execution_count": 29,
     "metadata": {},
     "output_type": "execute_result"
    }
   ],
   "source": [
    "day.corr()['cnt']"
   ]
  },
  {
   "cell_type": "code",
   "execution_count": 30,
   "metadata": {},
   "outputs": [
    {
     "data": {
      "text/plain": [
       "season        0.17806\n",
       "yr            0.25049\n",
       "mnth          0.12064\n",
       "hr            0.39407\n",
       "holiday      -0.03093\n",
       "weekday       0.02690\n",
       "workingday    0.03028\n",
       "weathersit   -0.14243\n",
       "temp          0.40477\n",
       "atemp         0.40093\n",
       "hum          -0.32291\n",
       "windspeed     0.09323\n",
       "casual        0.69456\n",
       "registered    0.97215\n",
       "cnt           1.00000\n",
       "Name: cnt, dtype: float64"
      ]
     },
     "execution_count": 30,
     "metadata": {},
     "output_type": "execute_result"
    }
   ],
   "source": [
    "hour.corr()['cnt']"
   ]
  },
  {
   "cell_type": "code",
   "execution_count": 31,
   "metadata": {},
   "outputs": [
    {
     "data": {
      "text/html": [
       "<div>\n",
       "<style scoped>\n",
       "    .dataframe tbody tr th:only-of-type {\n",
       "        vertical-align: middle;\n",
       "    }\n",
       "\n",
       "    .dataframe tbody tr th {\n",
       "        vertical-align: top;\n",
       "    }\n",
       "\n",
       "    .dataframe thead th {\n",
       "        text-align: right;\n",
       "    }\n",
       "</style>\n",
       "<table border=\"1\" class=\"dataframe\">\n",
       "  <thead>\n",
       "    <tr style=\"text-align: right;\">\n",
       "      <th></th>\n",
       "      <th>dteday</th>\n",
       "      <th>season</th>\n",
       "      <th>yr</th>\n",
       "      <th>mnth</th>\n",
       "      <th>holiday</th>\n",
       "      <th>weekday</th>\n",
       "      <th>workingday</th>\n",
       "      <th>weathersit</th>\n",
       "      <th>temp</th>\n",
       "      <th>atemp</th>\n",
       "      <th>hum</th>\n",
       "      <th>windspeed</th>\n",
       "      <th>casual</th>\n",
       "      <th>registered</th>\n",
       "      <th>cnt</th>\n",
       "    </tr>\n",
       "  </thead>\n",
       "  <tbody>\n",
       "    <tr>\n",
       "      <th>0</th>\n",
       "      <td>2011-01-01</td>\n",
       "      <td>1</td>\n",
       "      <td>0</td>\n",
       "      <td>1</td>\n",
       "      <td>0</td>\n",
       "      <td>6</td>\n",
       "      <td>0</td>\n",
       "      <td>2</td>\n",
       "      <td>14.11085</td>\n",
       "      <td>18.18125</td>\n",
       "      <td>80.58330</td>\n",
       "      <td>10.74988</td>\n",
       "      <td>331</td>\n",
       "      <td>654</td>\n",
       "      <td>985</td>\n",
       "    </tr>\n",
       "    <tr>\n",
       "      <th>1</th>\n",
       "      <td>2011-01-02</td>\n",
       "      <td>1</td>\n",
       "      <td>0</td>\n",
       "      <td>1</td>\n",
       "      <td>0</td>\n",
       "      <td>0</td>\n",
       "      <td>0</td>\n",
       "      <td>2</td>\n",
       "      <td>14.90260</td>\n",
       "      <td>17.68695</td>\n",
       "      <td>69.60870</td>\n",
       "      <td>16.65211</td>\n",
       "      <td>131</td>\n",
       "      <td>670</td>\n",
       "      <td>801</td>\n",
       "    </tr>\n",
       "    <tr>\n",
       "      <th>2</th>\n",
       "      <td>2011-01-03</td>\n",
       "      <td>1</td>\n",
       "      <td>0</td>\n",
       "      <td>1</td>\n",
       "      <td>0</td>\n",
       "      <td>1</td>\n",
       "      <td>1</td>\n",
       "      <td>1</td>\n",
       "      <td>8.05092</td>\n",
       "      <td>9.47025</td>\n",
       "      <td>43.72730</td>\n",
       "      <td>16.63670</td>\n",
       "      <td>120</td>\n",
       "      <td>1229</td>\n",
       "      <td>1349</td>\n",
       "    </tr>\n",
       "    <tr>\n",
       "      <th>3</th>\n",
       "      <td>2011-01-04</td>\n",
       "      <td>1</td>\n",
       "      <td>0</td>\n",
       "      <td>1</td>\n",
       "      <td>0</td>\n",
       "      <td>2</td>\n",
       "      <td>1</td>\n",
       "      <td>1</td>\n",
       "      <td>8.20000</td>\n",
       "      <td>10.60610</td>\n",
       "      <td>59.04350</td>\n",
       "      <td>10.73983</td>\n",
       "      <td>108</td>\n",
       "      <td>1454</td>\n",
       "      <td>1562</td>\n",
       "    </tr>\n",
       "    <tr>\n",
       "      <th>4</th>\n",
       "      <td>2011-01-05</td>\n",
       "      <td>1</td>\n",
       "      <td>0</td>\n",
       "      <td>1</td>\n",
       "      <td>0</td>\n",
       "      <td>3</td>\n",
       "      <td>1</td>\n",
       "      <td>1</td>\n",
       "      <td>9.30524</td>\n",
       "      <td>11.46350</td>\n",
       "      <td>43.69570</td>\n",
       "      <td>12.52230</td>\n",
       "      <td>82</td>\n",
       "      <td>1518</td>\n",
       "      <td>1600</td>\n",
       "    </tr>\n",
       "  </tbody>\n",
       "</table>\n",
       "</div>"
      ],
      "text/plain": [
       "       dteday  season  yr  mnth  holiday  weekday  workingday  weathersit  \\\n",
       "0  2011-01-01       1   0     1        0        6           0           2   \n",
       "1  2011-01-02       1   0     1        0        0           0           2   \n",
       "2  2011-01-03       1   0     1        0        1           1           1   \n",
       "3  2011-01-04       1   0     1        0        2           1           1   \n",
       "4  2011-01-05       1   0     1        0        3           1           1   \n",
       "\n",
       "      temp    atemp      hum  windspeed  casual  registered   cnt  \n",
       "0 14.11085 18.18125 80.58330   10.74988     331         654   985  \n",
       "1 14.90260 17.68695 69.60870   16.65211     131         670   801  \n",
       "2  8.05092  9.47025 43.72730   16.63670     120        1229  1349  \n",
       "3  8.20000 10.60610 59.04350   10.73983     108        1454  1562  \n",
       "4  9.30524 11.46350 43.69570   12.52230      82        1518  1600  "
      ]
     },
     "execution_count": 31,
     "metadata": {},
     "output_type": "execute_result"
    }
   ],
   "source": [
    "day.head()"
   ]
  },
  {
   "cell_type": "code",
   "execution_count": 32,
   "metadata": {},
   "outputs": [],
   "source": [
    "def get_df_name(df):\n",
    "    name=[x for x in globals() if globals()[x] is df][0]\n",
    "    return name\n",
    "\n",
    "def plot_stack_bar_chart(data,col,name):\n",
    "    plt.figure(figsize=(12,8))\n",
    "    p1=plt.bar(data[col].unique(),data.groupby([col])['casual'].sum())\n",
    "    p2=plt.bar(data[col].unique(),data.groupby([col])['casual'].sum(),bottom=data.groupby([col])['casual'].sum())\n",
    "    plt.ylabel('Count')\n",
    "    plt.title(\"Count by Casual and Registeredfor each {} in {} Data\".format(col,get_df_name(data)))\n",
    "    plt.xticks(data[col].unique(),name)\n",
    "    plt.legend((p1[0],p2[0]),('Casual', 'Registered'))\n",
    "    plt.show()"
   ]
  },
  {
   "cell_type": "code",
   "execution_count": 33,
   "metadata": {},
   "outputs": [
    {
     "data": {
      "image/png": "[encoded data removed]",
      "text/plain": [
       "<Figure size 864x576 with 1 Axes>"
      ]
     },
     "metadata": {
      "needs_background": "light"
     },
     "output_type": "display_data"
    }
   ],
   "source": [
    "plot_stack_bar_chart(day ,'season', ('1:springer', '2:summer','3:fall', '4:winter'))"
   ]
  },
  {
   "cell_type": "code",
   "execution_count": 36,
   "metadata": {},
   "outputs": [
    {
     "data": {
      "image/png": "[encoded data removed]",
      "text/plain": [
       "<Figure size 864x576 with 1 Axes>"
      ]
     },
     "metadata": {
      "needs_background": "light"
     },
     "output_type": "display_data"
    }
   ],
   "source": [
    "plot_stack_bar_chart(day,'yr',('2011','2012'))"
   ]
  },
  {
   "cell_type": "code",
   "execution_count": 37,
   "metadata": {},
   "outputs": [
    {
     "data": {
      "image/png": "[encoded data removed]",
      "text/plain": [
       "<Figure size 864x576 with 1 Axes>"
      ]
     },
     "metadata": {
      "needs_background": "light"
     },
     "output_type": "display_data"
    }
   ],
   "source": [
    "plot_stack_bar_chart(day,'mnth',[str(i) for i in day['mnth'].unique()])"
   ]
  },
  {
   "cell_type": "code",
   "execution_count": 38,
   "metadata": {},
   "outputs": [
    {
     "data": {
      "image/png": "[encoded data removed]",
      "text/plain": [
       "<Figure size 864x576 with 1 Axes>"
      ]
     },
     "metadata": {
      "needs_background": "light"
     },
     "output_type": "display_data"
    }
   ],
   "source": [
    "plot_stack_bar_chart(day,'weekday',[str(i) for i in day['weekday'].unique()])"
   ]
  },
  {
   "cell_type": "code",
   "execution_count": null,
   "metadata": {},
   "outputs": [],
   "source": []
  }
 ],
 "metadata": {
  "kernelspec": {
   "display_name": "Python 3",
   "language": "python",
   "name": "python3"
  },
  "language_info": {
   "codemirror_mode": {
    "name": "ipython",
    "version": 3
   },
   "file_extension": ".py",
   "mimetype": "text/x-python",
   "name": "python",
   "nbconvert_exporter": "python",
   "pygments_lexer": "ipython3",
   "version": "3.8.5"
  }
 },
 "nbformat": 4,
 "nbformat_minor": 4
}
